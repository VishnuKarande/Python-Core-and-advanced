{
 "cells": [
  {
   "cell_type": "markdown",
   "metadata": {},
   "source": [
    "when multpiple thread act simultaneusly, then they should be syncronized\n",
    "\n",
    "1.Dead lock problem-->Continous waiting. \n"
   ]
  },
  {
   "cell_type": "code",
   "execution_count": 6,
   "metadata": {},
   "outputs": [
    {
     "name": "stdout",
     "output_type": "stream",
     "text": [
      "Bookticket locked train\n",
      "Cancel ticket loked comp\n",
      "bookticket wants to lock in comparment...\n",
      "Cencelticket wants to lock on train....\n"
     ]
    }
   ],
   "source": [
    "#Thread Dead lock \n",
    "from threading import *\n",
    "from time import *\n",
    "\n",
    "l1=Lock()\n",
    "l2=Lock()\n",
    "\n",
    "def bookticket():\n",
    "    l1.acquire()\n",
    "    print('Bookticket locked train')\n",
    "    sleep(1)\n",
    "    print('bookticket wants to lock in comparment...')\n",
    "    l2.acquire()\n",
    "    print('bokkticket locked comp')\n",
    "    l2.acquire()\n",
    "    print('Bookticket locked comp')\n",
    "    l2.release()\n",
    "    l1.release()\n",
    "    print('Bokking tickect is Done')\n",
    "\n",
    "def Cancelticket():\n",
    "    l2.acquire()\n",
    "    print('Cancel ticket loked comp')\n",
    "    sleep(1.5)\n",
    "    print('Cencelticket wants to lock on train....')\n",
    "    l1.acquire()\n",
    "    print('cencelticket locked train')\n",
    "    l1.release()\n",
    "    l2.release()\n",
    "    print('Cancellation of ticket done')\n",
    "    \n",
    "t1=Thread(target=bookticket)\n",
    "t2=Thread(target=Cancelticket)\n",
    "\n",
    "t1.start()\n",
    "t2.start()\n"
   ]
  },
  {
   "cell_type": "raw",
   "metadata": {},
   "source": [
    "what is  Thread Deadlock-->\n",
    "when a thraead want to lock an obj that was already locked by another thread:\n",
    "and the sec thraed want to lock an obj. which was alreadt locked by the friest thread;then both thread continuous in waiting start forever.\n",
    "\n",
    "--When dead occures,the program halts and further processing is suspended\n",
    "--there is no solution deadlock\n",
    "\n",
    "--the program should be carefull while designing his programing such that he is not involving into deadlock.\n"
   ]
  },
  {
   "cell_type": "code",
   "execution_count": null,
   "metadata": {},
   "outputs": [],
   "source": []
  }
 ],
 "metadata": {
  "kernelspec": {
   "display_name": "Python 3",
   "language": "python",
   "name": "python3"
  },
  "language_info": {
   "codemirror_mode": {
    "name": "ipython",
    "version": 3
   },
   "file_extension": ".py",
   "mimetype": "text/x-python",
   "name": "python",
   "nbconvert_exporter": "python",
   "pygments_lexer": "ipython3",
   "version": "3.8.5"
  }
 },
 "nbformat": 4,
 "nbformat_minor": 4
}
