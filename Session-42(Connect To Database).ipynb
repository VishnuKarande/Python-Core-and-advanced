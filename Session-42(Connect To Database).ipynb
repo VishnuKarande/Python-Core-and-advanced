{
 "cells": [
  {
   "cell_type": "code",
   "execution_count": 5,
   "metadata": {},
   "outputs": [
    {
     "name": "stdout",
     "output_type": "stream",
     "text": [
      "\n",
      "Please wait a moment while I gather a list of all available modules...\n",
      "\n"
     ]
    },
    {
     "name": "stderr",
     "output_type": "stream",
     "text": [
      "C:\\ProgramData\\Anaconda3\\lib\\site-packages\\IPython\\kernel\\__init__.py:12: ShimWarning: The `IPython.kernel` package has been deprecated since IPython 4.0.You should import from ipykernel or jupyter_client instead.\n",
      "  warn(\"The `IPython.kernel` package has been deprecated since IPython 4.0.\"\n",
      "WARNING: IERSStaleWarning: leap-second file is expired. [astropy.utils.iers.iers]\n",
      "C:\\ProgramData\\Anaconda3\\lib\\pkgutil.py:92: MatplotlibDeprecationWarning: \n",
      "The matplotlib.compat module was deprecated in Matplotlib 3.3 and will be removed two minor releases later.\n",
      "  __import__(info.name)\n",
      "C:\\ProgramData\\Anaconda3\\lib\\site-packages\\nltk\\twitter\\__init__.py:21: UserWarning: The twython library has not been installed. Some functionality from the twitter package will not be available.\n",
      "  warnings.warn(\n",
      ":0: UserWarning: You do not have a working installation of the service_identity module: 'No module named 'service_identity''.  Please install it from <https://pypi.python.org/pypi/service_identity> and make sure all of its dependencies are satisfied.  Without the service_identity module, Twisted can perform only rudimentary TLS client hostname verification.  Many valid certificate/hostname mappings may be rejected.\n",
      "C:\\ProgramData\\Anaconda3\\lib\\site-packages\\skimage\\viewer\\utils\\__init__.py:1: UserWarning: Recommended matplotlib backend is `Agg` for full skimage.viewer functionality.\n",
      "  from .core import *\n",
      "C:\\ProgramData\\Anaconda3\\lib\\site-packages\\qtawesome\\iconic_font.py:311: UserWarning: You need to have a running QApplication to use QtAwesome!\n",
      "  warnings.warn(\"You need to have a running \"\n",
      "WARNING (theano.configdefaults): g++ not available, if using conda: `conda install m2w64-toolchain`\n",
      "C:\\ProgramData\\Anaconda3\\lib\\site-packages\\theano\\configdefaults.py:560: UserWarning: DeprecationWarning: there is no c++ compiler.This is deprecated and with Theano 0.11 a c++ compiler will be mandatory\n",
      "  warnings.warn(\"DeprecationWarning: there is no c++ compiler.\"\n",
      "WARNING (theano.configdefaults): g++ not detected ! Theano will be unable to execute optimized C-implementations (for both CPU and GPU) and will default to Python implementations. Performance will be severely degraded. To remove this warning, set Theano flags cxx to an empty string.\n",
      "WARNING (theano.tensor.blas): Using NumPy C-API based implementation for BLAS functions.\n",
      "C:\\ProgramData\\Anaconda3\\lib\\pkgutil.py:107: VisibleDeprecationWarning: zmq.eventloop.minitornado is deprecated in pyzmq 14.0 and will be removed.\n",
      "    Install tornado itself to use zmq with the tornado IOLoop.\n",
      "    \n",
      "  yield from walk_packages(path, info.name+'.', onerror)\n"
     ]
    },
    {
     "name": "stdout",
     "output_type": "stream",
     "text": [
      "Cython              brain_typing        matplotlib          socketserver\n",
      "DateTime            brain_uuid          mccabe              socks\n",
      "IPython             brotli              menuinst            sockshandler\n",
      "Mypack              bs4                 mimetypes           sortedcollections\n",
      "OpenSSL             builtins            missingno           sortedcontainers\n",
      "PIL                 bz2                 mistune             soupsieve\n",
      "PyQt5               cProfile            mkl                 sphinx\n",
      "__future__          cachetools          mkl_fft             sphinxcontrib\n",
      "_abc                calendar            mkl_random          spyder\n",
      "_ast                certifi             mlxtend             spyder_kernels\n",
      "_asyncio            cffi                mmap                sqlalchemy\n",
      "_bisect             cgi                 mmapfile            sqlite3\n",
      "_blake2             cgitb               mmsystem            sre_compile\n",
      "_bootlocale         chardet             mock                sre_constants\n",
      "_bz2                chunk               modulefinder        sre_parse\n",
      "_cffi_backend       clang               more_itertools      ssl\n",
      "_codecs             click               mpmath              sspi\n",
      "_codecs_cn          cloudpickle         msgpack             sspicon\n",
      "_codecs_hk          clyent              msilib              stat\n",
      "_codecs_iso2022     cmath               msvcrt              statistics\n",
      "_codecs_jp          cmd                 multimethod         statsmodels\n",
      "_codecs_kr          code                multipledispatch    storemagic\n",
      "_codecs_tw          codecs              multiprocessing     string\n",
      "_collections        codeop              nacl                stringprep\n",
      "_collections_abc    collections         navigator_updater   struct\n",
      "_compat_pickle      colorama            nbclient            subprocess\n",
      "_compression        colorsys            nbconvert           sunau\n",
      "_contextvars        commctrl            nbformat            symbol\n",
      "_csv                compileall          nest_asyncio        sympy\n",
      "_ctypes             comtypes            netbios             sympyprinting\n",
      "_ctypes_test        concurrent          netrc               symtable\n",
      "_datetime           conda               networkx            sys\n",
      "_decimal            conda_build         nltk                sysconfig\n",
      "_distutils_hack     conda_env           nntplib             tables\n",
      "_dummy_thread       conda_package_handling nose                tabnanny\n",
      "_elementtree        conda_verify        notebook            tabpy\n",
      "_functools          configparser        nt                  tangled_up_in_unicode\n",
      "_hashlib            constantly          ntpath              tarfile\n",
      "_heapq              contextlib          ntsecuritycon       tblib\n",
      "_hypothesis_pytestplugin contextlib2         nturl2path          telnetlib\n",
      "_imp                contextvars         numba               tempfile\n",
      "_io                 copy                numbers             tensorboard\n",
      "_json               copyreg             numexpr             tensorboard_data_server\n",
      "_locale             coverage            numpy               tensorboard_plugin_wit\n",
      "_lsprof             coveralls           numpydoc            tensorflow\n",
      "_lzma               crypt               oauthlib            tensorflow_estimator\n",
      "_markupbase         cryptography        odbc                tensorflow_io_gcs_filesystem\n",
      "_md5                csv                 olefile             termcolor\n",
      "_msi                ctypes              opcode              terminado\n",
      "_multibytecodec     curl                openpyxl            test\n",
      "_multiprocessing    curses              operator            test_data\n",
      "_nsis               cwp                 opt_einsum          test_pycosat\n",
      "_opcode             cycler              optparse            testpath\n",
      "_operator           cython              os                  tests\n",
      "_osx_support        cythonmagic         packaging           textblob\n",
      "_overlapped         cytoolz             pandas              textwrap\n",
      "_pickle             dask                pandocfilters       theano\n",
      "_py_abc             dataclasses         paramiko            this\n",
      "_pydecimal          datetime            parser              threading\n",
      "_pyio               dateutil            parso               threadpoolctl\n",
      "_pyrsistent_version dbi                 partd               tifffile\n",
      "_pytest             dbm                 past                time\n",
      "_queue              dde                 pasta               timeit\n",
      "_random             decimal             path                timer\n",
      "_sha1               decorator           pathlib             tkinter\n",
      "_sha256             defusedxml          pathlib2            tlz\n",
      "_sha3               diff_match_patch    pathtools           token\n",
      "_sha512             difflib             patsy               tokenize\n",
      "_signal             dis                 pdb                 toml\n",
      "_sitebuiltins       distributed         pep8                toolz\n",
      "_socket             distutils           perfmon             tornado\n",
      "_sqlite3            docopt              pexpect             tqdm\n",
      "_sre                doctest             phonenumbers        trace\n",
      "_ssl                docutils            pickle              traceback\n",
      "_stat               dummy_threading     pickleshare         tracemalloc\n",
      "_statistics         easy_install        pickletools         traitlets\n",
      "_string             email               pip                 tty\n",
      "_strptime           encodings           pipes               turtle\n",
      "_struct             ensurepip           pkg_resources       turtledemo\n",
      "_symtable           entrypoints         pkginfo             twisted\n",
      "_system_path        enum                pkgutil             types\n",
      "_testbuffer         errno               platform            typing\n",
      "_testcapi           et_xmlfile          plistlib            typing_extensions\n",
      "_testconsole        fastcache           pluggy              ujson\n",
      "_testimportmultiple faulthandler        ply                 unicodecsv\n",
      "_testinternalcapi   filecmp             poplib              unicodedata\n",
      "_testmultiphase     fileinput           posixpath           unittest\n",
      "_thread             filelock            pprint              urllib\n",
      "_threading_local    flake8              prettytable         urllib3\n",
      "_tkinter            flask               profile             uu\n",
      "_tracemalloc        flatbuffers         prometheus_client   uuid\n",
      "_warnings           fnmatch             prompt_toolkit      validate_email\n",
      "_weakref            formatter           pstats              venv\n",
      "_weakrefset         fractions           psutil              verify_email\n",
      "_win32sysloader     fsspec              pty                 warnings\n",
      "_winapi             ftplib              public              watchdog\n",
      "_winxptheme         functools           pvectorc            wave\n",
      "_xxsubinterpreters  future              py                  wcwidth\n",
      "_yaml               gast                py_compile          weakref\n",
      "abc                 gc                  pyasn1              webbrowser\n",
      "absl                genericpath         pyasn1_modules      webencodings\n",
      "adodbapi            genson              pycares             werkzeug\n",
      "afxres              getopt              pyclbr              wheel\n",
      "aifc                getpass             pycodestyle         widgetsnbextension\n",
      "aiodns              gettext             pycosat             win2kras\n",
      "aiosmtpd            gevent              pycparser           win32api\n",
      "alabaster           glob                pycurl              win32clipboard\n",
      "anaconda_navigator  glob2               pydoc               win32com\n",
      "anaconda_project    google_auth_oauthlib pydoc_data          win32con\n",
      "antigravity         googlesearch        pydocstyle          win32console\n",
      "argh                greenlet            pyexpat             win32cred\n",
      "argon2              grpc                pyflakes            win32crypt\n",
      "argparse            gtts                pygments            win32cryptcon\n",
      "array               gzip                pylab               win32ctypes\n",
      "asn1crypto          h5py                pylint              win32event\n",
      "ast                 hashlib             pyls                win32evtlog\n",
      "astroid             heapdict            pyls_jsonrpc        win32evtlogutil\n"
     ]
    },
    {
     "name": "stdout",
     "output_type": "stream",
     "text": [
      "astropy             heapq               pyodbc              win32file\n",
      "astunparse          hmac                pyparsing           win32gui\n",
      "async_generator     html                pyreadline          win32gui_struct\n",
      "asynchat            html5lib            pyrsistent          win32help\n",
      "asyncio             http                pytest              win32inet\n",
      "asyncore            hyperlink           pytest_cov          win32inetcon\n",
      "atexit              hypothesis          pythoncom           win32job\n",
      "atomicwrites        idlelib             pytz                win32lz\n",
      "attr                idna                pywin               win32net\n",
      "audioop             imageio             pywin32_bootstrap   win32netcon\n",
      "automat             imagesize           pywin32_testutil    win32pdh\n",
      "autopep8            imaplib             pywintypes          win32pdhquery\n",
      "autoreload          imghdr              pywt                win32pdhutil\n",
      "babel               imp                 pyximport           win32pipe\n",
      "backcall            importlib           qdarkstyle          win32print\n",
      "backports           importlib_metadata  qtawesome           win32process\n",
      "base64              incremental         qtconsole           win32profile\n",
      "bcrypt              iniconfig           qtpy                win32ras\n",
      "bdb                 inspect             queue               win32rcparser\n",
      "bin                 intervaltree        quopri              win32security\n",
      "binascii            io                  random              win32service\n",
      "binhex              ipaddress           rasutil             win32serviceutil\n",
      "binstar_client      ipykernel           re                  win32timezone\n",
      "bisect              ipykernel_launcher  readline            win32trace\n",
      "bitarray            ipython_genutils    regcheck            win32traceutil\n",
      "bkcharts            ipywidgets          regex               win32transaction\n",
      "bleach              isapi               regutil             win32ts\n",
      "bokeh               isort               reprlib             win32ui\n",
      "boto                isympy              requests            win32uiole\n",
      "bottleneck          itertools           requests_oauthlib   win32verstamp\n",
      "brain_argparse      itsdangerous        rlcompleter         win32wnet\n",
      "brain_attrs         jdcal               rmagic              win_inet_pton\n",
      "brain_boto3         jedi                rope                win_unicode_console\n",
      "brain_builtin_inference jinja2              rsa                 wincertstore\n",
      "brain_collections   joblib              rtree               winerror\n",
      "brain_crypt         json                ruamel_yaml         winioctlcon\n",
      "brain_curses        json5               run                 winnt\n",
      "brain_dataclasses   jsonschema          runpy               winperf\n",
      "brain_dateutil      jupyter             sched               winpty\n",
      "brain_fstrings      jupyter_client      scipy               winreg\n",
      "brain_functools     jupyter_console     scripts             winsound\n",
      "brain_gi            jupyter_core        seaborn             winxpgui\n",
      "brain_hashlib       jupyterlab          secrets             winxptheme\n",
      "brain_http          jupyterlab_pygments select              wrapt\n",
      "brain_io            jupyterlab_server   selectors           wsgiref\n",
      "brain_mechanize     keras               send2trash          xdrlib\n",
      "brain_multiprocessing keras_preprocessing servicemanager      xlrd\n",
      "brain_namedtuple_enum keyring             setuptools          xlsxwriter\n",
      "brain_nose          keyword             shelve              xlwings\n",
      "brain_numpy_core_fromnumeric kiwisolver          shlex               xlwt\n",
      "brain_numpy_core_function_base lazy_object_proxy   shutil              xml\n",
      "brain_numpy_core_multiarray lib2to3             signal              xmlrpc\n",
      "brain_numpy_core_numeric libarchive          simplegeneric       xmltodict\n",
      "brain_numpy_core_numerictypes libfuturize         simplejson          xxsubtype\n",
      "brain_numpy_core_umath libpasteurize       singledispatch      yaml\n",
      "brain_numpy_ndarray lief                singledispatch_helpers yapf\n",
      "brain_numpy_random_mtrand linecache           sip                 yapftests\n",
      "brain_numpy_utils   llvmlite            sipconfig           zict\n",
      "brain_pkg_resources locale              sipdistutils        zipapp\n",
      "brain_pytest        locket              site                zipfile\n",
      "brain_qt            logging             six                 zipimport\n",
      "brain_random        lxml                skimage             zipp\n",
      "brain_re            lzma                sklearn             zlib\n",
      "brain_responses     mailbox             smart_open          zmq\n",
      "brain_scipy_signal  mailcap             smtpd               zope\n",
      "brain_six           markdown            smtplib             ~-p\n",
      "brain_ssl           markupsafe          sndhdr              ~ip\n",
      "brain_subprocess    marshal             snowballstemmer     \n",
      "brain_threading     math                socket              \n",
      "\n",
      "Enter any module name to get more help.  Or, type \"modules spam\" to search\n",
      "for modules whose name or summary contain the string \"spam\".\n",
      "\n"
     ]
    }
   ],
   "source": [
    "help('modules')"
   ]
  },
  {
   "cell_type": "code",
   "execution_count": 6,
   "metadata": {},
   "outputs": [
    {
     "name": "stderr",
     "output_type": "stream",
     "text": [
      "WARNING: Retrying (Retry(total=4, connect=None, read=None, redirect=None, status=None)) after connection broken by 'NewConnectionError('<pip._vendor.urllib3.connection.HTTPSConnection object at 0x000001C1F23CE160>: Failed to establish a new connection: [Errno 11001] getaddrinfo failed')': /simple/pymysql/\n",
      "WARNING: Retrying (Retry(total=3, connect=None, read=None, redirect=None, status=None)) after connection broken by 'NewConnectionError('<pip._vendor.urllib3.connection.HTTPSConnection object at 0x000001C1F2354F70>: Failed to establish a new connection: [Errno 11001] getaddrinfo failed')': /simple/pymysql/\n",
      "WARNING: Retrying (Retry(total=2, connect=None, read=None, redirect=None, status=None)) after connection broken by 'NewConnectionError('<pip._vendor.urllib3.connection.HTTPSConnection object at 0x000001C1F2354DF0>: Failed to establish a new connection: [Errno 11001] getaddrinfo failed')': /simple/pymysql/"
     ]
    },
    {
     "name": "stdout",
     "output_type": "stream",
     "text": [
      "Note: you may need to restart the kernel to use updated packages."
     ]
    },
    {
     "name": "stderr",
     "output_type": "stream",
     "text": [
      "\n",
      "WARNING: Retrying (Retry(total=1, connect=None, read=None, redirect=None, status=None)) after connection broken by 'NewConnectionError('<pip._vendor.urllib3.connection.HTTPSConnection object at 0x000001C1F2354CD0>: Failed to establish a new connection: [Errno 11001] getaddrinfo failed')': /simple/pymysql/"
     ]
    },
    {
     "name": "stdout",
     "output_type": "stream",
     "text": [
      "\n"
     ]
    },
    {
     "name": "stderr",
     "output_type": "stream",
     "text": [
      "\n",
      "WARNING: Retrying (Retry(total=0, connect=None, read=None, redirect=None, status=None)) after connection broken by 'NewConnectionError('<pip._vendor.urllib3.connection.HTTPSConnection object at 0x000001C1F2354A90>: Failed to establish a new connection: [Errno 11001] getaddrinfo failed')': /simple/pymysql/\n",
      "ERROR: Could not find a version that satisfies the requirement Pymysql (from versions: none)\n",
      "ERROR: No matching distribution found for Pymysql\n"
     ]
    }
   ],
   "source": [
    "pip install Pymysql"
   ]
  },
  {
   "cell_type": "code",
   "execution_count": 7,
   "metadata": {},
   "outputs": [
    {
     "name": "stderr",
     "output_type": "stream",
     "text": [
      "WARNING: Retrying (Retry(total=4, connect=None, read=None, redirect=None, status=None)) after connection broken by 'NewConnectionError('<pip._vendor.urllib3.connection.HTTPSConnection object at 0x000002081D84E160>: Failed to establish a new connection: [Errno 11001] getaddrinfo failed')': /simple/cx-oracle/\n",
      "WARNING: Retrying (Retry(total=3, connect=None, read=None, redirect=None, status=None)) after connection broken by 'NewConnectionError('<pip._vendor.urllib3.connection.HTTPSConnection object at 0x000002081D7CDF70>: Failed to establish a new connection: [Errno 11001] getaddrinfo failed')': /simple/cx-oracle/\n"
     ]
    },
    {
     "name": "stdout",
     "output_type": "stream",
     "text": [
      "Note: you may need to restart the kernel to use updated packages."
     ]
    },
    {
     "name": "stderr",
     "output_type": "stream",
     "text": [
      "WARNING: Retrying (Retry(total=2, connect=None, read=None, redirect=None, status=None)) after connection broken by 'NewConnectionError('<pip._vendor.urllib3.connection.HTTPSConnection object at 0x000002081D7CDDF0>: Failed to establish a new connection: [Errno 11001] getaddrinfo failed')': /simple/cx-oracle/\n",
      "WARNING: Retrying (Retry(total=1, connect=None, read=None, redirect=None, status=None)) after connection broken by 'NewConnectionError('<pip._vendor.urllib3.connection.HTTPSConnection object at 0x000002081D7CDCD0>: Failed to establish a new connection: [Errno 11001] getaddrinfo failed')': /simple/cx-oracle/\n",
      "WARNING: Retrying (Retry(total=0, connect=None, read=None, redirect=None, status=None)) after connection broken by 'NewConnectionError('<pip._vendor.urllib3.connection.HTTPSConnection object at 0x000002081D7CDA90>: Failed to establish a new connection: [Errno 11001] getaddrinfo failed')': /simple/cx-oracle/\n",
      "ERROR: Could not find a version that satisfies the requirement cx_Oracle (from versions: none)\n",
      "ERROR: No matching distribution found for cx_Oracle\n"
     ]
    },
    {
     "name": "stdout",
     "output_type": "stream",
     "text": [
      "\n"
     ]
    }
   ],
   "source": [
    "pip install cx_Oracle"
   ]
  },
  {
   "cell_type": "code",
   "execution_count": 8,
   "metadata": {},
   "outputs": [
    {
     "ename": "ModuleNotFoundError",
     "evalue": "No module named 'cx_Oracle'",
     "output_type": "error",
     "traceback": [
      "\u001b[1;31m---------------------------------------------------------------------------\u001b[0m",
      "\u001b[1;31mModuleNotFoundError\u001b[0m                       Traceback (most recent call last)",
      "\u001b[1;32m<ipython-input-8-ff1521013889>\u001b[0m in \u001b[0;36m<module>\u001b[1;34m\u001b[0m\n\u001b[1;32m----> 1\u001b[1;33m \u001b[1;32mimport\u001b[0m \u001b[0mcx_Oracle\u001b[0m\u001b[1;33m\u001b[0m\u001b[1;33m\u001b[0m\u001b[0m\n\u001b[0m",
      "\u001b[1;31mModuleNotFoundError\u001b[0m: No module named 'cx_Oracle'"
     ]
    }
   ],
   "source": []
  },
  {
   "cell_type": "code",
   "execution_count": null,
   "metadata": {},
   "outputs": [],
   "source": []
  }
 ],
 "metadata": {
  "kernelspec": {
   "display_name": "Python 3",
   "language": "python",
   "name": "python3"
  },
  "language_info": {
   "codemirror_mode": {
    "name": "ipython",
    "version": 3
   },
   "file_extension": ".py",
   "mimetype": "text/x-python",
   "name": "python",
   "nbconvert_exporter": "python",
   "pygments_lexer": "ipython3",
   "version": "3.8.5"
  }
 },
 "nbformat": 4,
 "nbformat_minor": 4
}
