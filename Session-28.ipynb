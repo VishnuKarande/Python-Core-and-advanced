{
 "cells": [
  {
   "cell_type": "code",
   "execution_count": 1,
   "metadata": {},
   "outputs": [
    {
     "name": "stdout",
     "output_type": "stream",
     "text": [
      "Father hieght is 6.3ft\n",
      "Mother's colour is black\n"
     ]
    }
   ],
   "source": [
    "class father:\n",
    "    def height(self):\n",
    "        print(\"Father hieght is 6.3ft\")\n",
    "        \n",
    "class Mother:\n",
    "    def color(self):\n",
    "        print(\"Mother's colour is black\")\n",
    "class child(father , Mother):\n",
    "    pass\n",
    "c=child()\n",
    "c.height()\n",
    "c.color()\n"
   ]
  },
  {
   "cell_type": "markdown",
   "metadata": {},
   "source": [
    "# opretor overloading"
   ]
  },
  {
   "cell_type": "code",
   "execution_count": 5,
   "metadata": {},
   "outputs": [
    {
     "name": "stdout",
     "output_type": "stream",
     "text": [
      "Vishnu\n"
     ]
    }
   ],
   "source": [
    "s1= \"Vish\"\n",
    "s2='nu'\n",
    "print(s1+s2)"
   ]
  },
  {
   "cell_type": "code",
   "execution_count": 6,
   "metadata": {},
   "outputs": [
    {
     "name": "stdout",
     "output_type": "stream",
     "text": [
      "111\n"
     ]
    }
   ],
   "source": [
    "s1=10\n",
    "s2=101\n",
    "print(s1+s2)"
   ]
  },
  {
   "cell_type": "markdown",
   "metadata": {},
   "source": [
    "# Method Overloading"
   ]
  },
  {
   "cell_type": "code",
   "execution_count": 2,
   "metadata": {},
   "outputs": [
    {
     "name": "stdout",
     "output_type": "stream",
     "text": [
      "Sum 40\n",
      "Sum 80\n"
     ]
    }
   ],
   "source": [
    "class Sample:\n",
    "    def add(self, *x):\n",
    "        result = sum(x)\n",
    "        print(\"Sum\", result)\n",
    "    \n",
    "s=Sample()\n",
    "s.add(20,20)\n",
    "s.add(20,30,30)"
   ]
  },
  {
   "cell_type": "code",
   "execution_count": 10,
   "metadata": {},
   "outputs": [
    {
     "name": "stdout",
     "output_type": "stream",
     "text": [
      "Sum is 20\n"
     ]
    }
   ],
   "source": [
    "class Sample:\n",
    "    def add(self, *x):\n",
    "        result = sum(x)\n",
    "        print('Sum is', result)\n",
    "s=Sample()\n",
    "s.add(10,10)"
   ]
  },
  {
   "cell_type": "code",
   "execution_count": 3,
   "metadata": {},
   "outputs": [
    {
     "name": "stdout",
     "output_type": "stream",
     "text": [
      "Sum is 60\n"
     ]
    }
   ],
   "source": [
    "class Sample:\n",
    "    @staticmethod\n",
    "    def add(*x):\n",
    "        result = sum(x)\n",
    "        print(\"Sum is\", result)\n",
    "\n",
    "Sample.add(30,30) "
   ]
  },
  {
   "cell_type": "code",
   "execution_count": 11,
   "metadata": {},
   "outputs": [
    {
     "name": "stdout",
     "output_type": "stream",
     "text": [
      "Sum is  48\n"
     ]
    }
   ],
   "source": [
    "class car:\n",
    "    @staticmethod\n",
    "    def mul(*x):\n",
    "        res=sum(x)\n",
    "        print(\"Sum is \", res)\n",
    "car.mul(12,12,12,12)"
   ]
  },
  {
   "cell_type": "markdown",
   "metadata": {},
   "source": [
    "# Method overriding"
   ]
  },
  {
   "cell_type": "code",
   "execution_count": 19,
   "metadata": {},
   "outputs": [
    {
     "name": "stdout",
     "output_type": "stream",
     "text": [
      "I am in Sub Class\n",
      "I am in Super Class\n"
     ]
    }
   ],
   "source": [
    "class Super:\n",
    "    def display(self):\n",
    "        print('I am in Super Class')\n",
    "class Sub(Super):\n",
    "    def display(self):\n",
    "        print(\"I am in Sub Class\")\n",
    "s=Sub()\n",
    "s.display()\n",
    "s=Super()\n",
    "s.display()"
   ]
  },
  {
   "cell_type": "markdown",
   "metadata": {},
   "source": [
    "# Duck typing"
   ]
  },
  {
   "cell_type": "code",
   "execution_count": 13,
   "metadata": {},
   "outputs": [
    {
     "name": "stdout",
     "output_type": "stream",
     "text": [
      "Quack Quack\n",
      "Bow Bow\n"
     ]
    }
   ],
   "source": [
    "class Duck:\n",
    "    def talk(self):\n",
    "        print(\"Quack Quack\")\n",
    "class Dog:\n",
    "    def talk(self):\n",
    "        print('Bow Bow')\n",
    "\n",
    "def call_talk(obj):\n",
    "    obj.talk()    # Duck typing  \n",
    "\n",
    "\n",
    "d=Duck()\n",
    "call_talk(d)\n",
    "\n",
    "d=Dog()\n",
    "call_talk(d)"
   ]
  },
  {
   "cell_type": "code",
   "execution_count": null,
   "metadata": {},
   "outputs": [],
   "source": []
  }
 ],
 "metadata": {
  "kernelspec": {
   "display_name": "Python 3",
   "language": "python",
   "name": "python3"
  },
  "language_info": {
   "codemirror_mode": {
    "name": "ipython",
    "version": 3
   },
   "file_extension": ".py",
   "mimetype": "text/x-python",
   "name": "python",
   "nbconvert_exporter": "python",
   "pygments_lexer": "ipython3",
   "version": "3.8.5"
  }
 },
 "nbformat": 4,
 "nbformat_minor": 4
}
