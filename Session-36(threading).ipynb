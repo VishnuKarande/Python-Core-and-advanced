{
 "cells": [
  {
   "cell_type": "raw",
   "metadata": {},
   "source": [
    "#To know which thread is executing my program"
   ]
  },
  {
   "cell_type": "code",
   "execution_count": 1,
   "metadata": {},
   "outputs": [
    {
     "name": "stdout",
     "output_type": "stream",
     "text": [
      "This is frist line\n",
      "currently running thraead = MainThread\n"
     ]
    }
   ],
   "source": [
    "import threading\n",
    "print(\"This is frist line\")\n",
    "name=threading.current_thread().getName()\n",
    "print(\"currently running thraead =\" , name)"
   ]
  },
  {
   "cell_type": "markdown",
   "metadata": {},
   "source": [
    "# Singal tasking"
   ]
  },
  {
   "cell_type": "raw",
   "metadata": {},
   "source": [
    "How craete theated in sub class"
   ]
  },
  {
   "cell_type": "code",
   "execution_count": 2,
   "metadata": {},
   "outputs": [
    {
     "name": "stdout",
     "output_type": "stream",
     "text": [
      "I am your thread! 100\n"
     ]
    }
   ],
   "source": [
    "from threading import *\n",
    "def display(x):\n",
    "    print(\"I am your thread!\",x)\n",
    "t1=Thread(target=display, args=(100,))\n",
    "t1.start()"
   ]
  },
  {
   "cell_type": "code",
   "execution_count": 25,
   "metadata": {},
   "outputs": [
    {
     "name": "stdout",
     "output_type": "stream",
     "text": [
      "hello i am a running\n",
      "100 200\n"
     ]
    }
   ],
   "source": [
    "from threading import *\n",
    "class MyThread(Thread):\n",
    "    def __init__(self,x,y):\n",
    "        super().__init__()\n",
    "        self.x=x\n",
    "        self.y=y\n",
    "    def run(self):\n",
    "        print('hello i am a running')\n",
    "        print(self.x, self.y)\n",
    "mt=MyThread(100,200)\n",
    "mt.start()"
   ]
  },
  {
   "cell_type": "markdown",
   "metadata": {},
   "source": [
    "How craete theated in individual"
   ]
  },
  {
   "cell_type": "code",
   "execution_count": 32,
   "metadata": {},
   "outputs": [
    {
     "name": "stdout",
     "output_type": "stream",
     "text": [
      "Hello iam a thread to help you\n",
      "100\n"
     ]
    }
   ],
   "source": [
    "from threading import *\n",
    "class Mythread:\n",
    "    def __init__(self,x):\n",
    "        self.x=x\n",
    "    def display(self):\n",
    "        print(\"Hello iam a thread to help you\")\n",
    "        print(self.x)\n",
    "        \n",
    "mt=Mythread(100)\n",
    "t1=Thread(target=mt.display)\n",
    "t1.start()"
   ]
  },
  {
   "cell_type": "code",
   "execution_count": 9,
   "metadata": {},
   "outputs": [
    {
     "name": "stdout",
     "output_type": "stream",
     "text": [
      "Hello iam a thread to help you\n",
      "101\n"
     ]
    }
   ],
   "source": [
    "from threading import *\n",
    "class Mythread:\n",
    "    def display(self,x):\n",
    "        print(\"Hello iam a thread to help you\")\n",
    "        print(x)\n",
    "        #print(y)\n",
    "        \n",
    "mt=Mythread()\n",
    "t1=Thread(target=mt.display, args=(101,))\n",
    "t1.start()"
   ]
  },
  {
   "cell_type": "code",
   "execution_count": null,
   "metadata": {},
   "outputs": [],
   "source": []
  }
 ],
 "metadata": {
  "kernelspec": {
   "display_name": "Python 3",
   "language": "python",
   "name": "python3"
  },
  "language_info": {
   "codemirror_mode": {
    "name": "ipython",
    "version": 3
   },
   "file_extension": ".py",
   "mimetype": "text/x-python",
   "name": "python",
   "nbconvert_exporter": "python",
   "pygments_lexer": "ipython3",
   "version": "3.8.5"
  }
 },
 "nbformat": 4,
 "nbformat_minor": 4
}
