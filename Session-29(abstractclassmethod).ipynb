{
 "cells": [
  {
   "cell_type": "code",
   "execution_count": 2,
   "metadata": {},
   "outputs": [
    {
     "name": "stdout",
     "output_type": "stream",
     "text": [
      "Hello im a common method\n",
      "Square Value:  144\n",
      "Hello im a common method\n",
      "Square root  3.1622776601683795\n"
     ]
    }
   ],
   "source": [
    "from abc import ABC abstractclassmethod\n",
    "class myclass(ABC):\n",
    "    #concrete method\n",
    "    def display(self):\n",
    "        print(\"Hello im a common method\")\n",
    "        \n",
    "        @abstractclassmethod\n",
    "        def calculate(self, x):\n",
    "            pass\n",
    "        \n",
    "class sub(myclass):\n",
    "    def calculate(self, x):\n",
    "        print(\"Square Value: \", x*x)\n",
    "    \n",
    "import math\n",
    "class sub2(myclass):\n",
    "    def calculate(self, x):\n",
    "        print('Square root ',math.sqrt(x))\n",
    "\n",
    "s1=sub()\n",
    "s1.display()\n",
    "s1.calculate(12)\n",
    "\n",
    "s2=sub2()\n",
    "s2.display()\n",
    "s2.calculate(10)\n",
    "        "
   ]
  },
  {
   "cell_type": "code",
   "execution_count": 6,
   "metadata": {},
   "outputs": [
    {
     "name": "stdout",
     "output_type": "stream",
     "text": [
      "Conneting to Oracle.... \n",
      "Conneting to mangoDB...\n"
     ]
    }
   ],
   "source": [
    "from abc import *\n",
    "class server():\n",
    "    @abstractclassmethod\n",
    "    def database(self):\n",
    "        pass\n",
    "class Orcle(server):\n",
    "    def aaa(self):\n",
    "        print(\"Conneting to Oracle.... \")\n",
    "class mangoDB(server):\n",
    "    def bbb(self):\n",
    "        print(\"Conneting to mangoDB...\")\n",
    "\n",
    "c=Orcle()\n",
    "c.database()\n",
    "c.aaa()\n",
    "\n",
    "m=mangoDB()\n",
    "m.database()\n",
    "m.bbb()\n",
    "        \n",
    "    "
   ]
  },
  {
   "cell_type": "code",
   "execution_count": null,
   "metadata": {},
   "outputs": [],
   "source": []
  }
 ],
 "metadata": {
  "kernelspec": {
   "display_name": "Python 3",
   "language": "python",
   "name": "python3"
  },
  "language_info": {
   "codemirror_mode": {
    "name": "ipython",
    "version": 3
   },
   "file_extension": ".py",
   "mimetype": "text/x-python",
   "name": "python",
   "nbconvert_exporter": "python",
   "pygments_lexer": "ipython3",
   "version": "3.8.5"
  }
 },
 "nbformat": 4,
 "nbformat_minor": 4
}
