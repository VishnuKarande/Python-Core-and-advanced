{
 "cells": [
  {
   "cell_type": "code",
   "execution_count": 5,
   "metadata": {},
   "outputs": [
    {
     "name": "stdout",
     "output_type": "stream",
     "text": [
      "Opan the file\n",
      "Enter the 1st num :2\n",
      "Enter the 2nd num :3\n",
      "Result :  5\n",
      "Close The file\n"
     ]
    }
   ],
   "source": [
    "print(\"Opan the file\")\n",
    "a=int(input(\"Enter the 1st num :\"))\n",
    "b=int(input(\"Enter the 2nd num :\"))\n",
    "\n",
    "c=a+b\n",
    "\n",
    "print(\"Result : \",c)\n",
    "print(\"Close The file\")"
   ]
  },
  {
   "cell_type": "code",
   "execution_count": 17,
   "metadata": {},
   "outputs": [
    {
     "name": "stdout",
     "output_type": "stream",
     "text": [
      "Opan the file\n",
      "Enter the a:1\n",
      "Enter the b:1\n",
      "Result :  1.0\n",
      "Close The file\n"
     ]
    }
   ],
   "source": [
    "try:\n",
    "    print(\"Opan the file\")\n",
    "    \n",
    "    a=int(input(\"Enter the a:\"))\n",
    "    b=int(input(\"Enter the b:\"))\n",
    "\n",
    "    c=a/b\n",
    "    print(\"Result : \",c)\n",
    "\n",
    "except ZeroDivisionError:\n",
    "    print(\"Division by zero happend\")\n",
    "    print(\"Please do not Enter 0 in the inputs\")\n",
    "     \n",
    "finally:    \n",
    "    print(\"Close The file\")"
   ]
  },
  {
   "cell_type": "code",
   "execution_count": 28,
   "metadata": {},
   "outputs": [
    {
     "name": "stdout",
     "output_type": "stream",
     "text": [
      "Opan the file\n",
      "Enter the a:2.4\n",
      "invalid literal for int() with base 10: '2.4'\n",
      "Close The file\n"
     ]
    }
   ],
   "source": [
    "try:\n",
    "    print(\"Opan the file\")\n",
    "    \n",
    "    a=int(input(\"Enter the a:\"))\n",
    "    b=int(input(\"Enter the b:\"))\n",
    "\n",
    "    c=a/b\n",
    "    \n",
    "\n",
    "except ZeroDivisionError as ze:\n",
    "    print(ze)\n",
    "    print(\"Please do not Enter 0 in the inputs\")\n",
    "except ValueError as ve:\n",
    "    print(ve)\n",
    "\n",
    "else:\n",
    "    print(\"Result : \",c)\n",
    "\n",
    "finally:    \n",
    "    print(\"Close The file\")"
   ]
  }
 ],
 "metadata": {
  "kernelspec": {
   "display_name": "Python 3",
   "language": "python",
   "name": "python3"
  },
  "language_info": {
   "codemirror_mode": {
    "name": "ipython",
    "version": 3
   },
   "file_extension": ".py",
   "mimetype": "text/x-python",
   "name": "python",
   "nbconvert_exporter": "python",
   "pygments_lexer": "ipython3",
   "version": "3.8.5"
  }
 },
 "nbformat": 4,
 "nbformat_minor": 4
}
