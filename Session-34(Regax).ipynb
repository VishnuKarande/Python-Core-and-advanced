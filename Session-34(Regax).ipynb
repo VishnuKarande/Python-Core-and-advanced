{
 "cells": [
  {
   "cell_type": "code",
   "execution_count": 1,
   "metadata": {},
   "outputs": [
    {
     "name": "stdout",
     "output_type": "stream",
     "text": [
      "Core \n",
      " python\n"
     ]
    }
   ],
   "source": [
    "str='Core \\n python'\n",
    "print(str)"
   ]
  },
  {
   "cell_type": "code",
   "execution_count": 4,
   "metadata": {},
   "outputs": [
    {
     "name": "stdout",
     "output_type": "stream",
     "text": [
      "Core\tpython\n"
     ]
    }
   ],
   "source": [
    "str='Core\\tpython'\n",
    "print(str)"
   ]
  },
  {
   "cell_type": "code",
   "execution_count": 9,
   "metadata": {},
   "outputs": [
    {
     "name": "stdout",
     "output_type": "stream",
     "text": [
      "Core\\n python\n"
     ]
    }
   ],
   "source": [
    "str=r'Core\\n python'\n",
    "print(str)"
   ]
  },
  {
   "cell_type": "code",
   "execution_count": 7,
   "metadata": {},
   "outputs": [
    {
     "name": "stdout",
     "output_type": "stream",
     "text": [
      "Maaa\n"
     ]
    }
   ],
   "source": [
    "str='Mat man not mop tun rat Maaa'\n",
    "import re \n",
    "obj=re.search(r'M\\w\\w\\w',str)\n",
    "if obj:\n",
    "    print(obj.group())\n",
    "else:\n",
    "    print(\"Not Found\") "
   ]
  },
  {
   "cell_type": "code",
   "execution_count": 10,
   "metadata": {},
   "outputs": [
    {
     "name": "stdout",
     "output_type": "stream",
     "text": [
      "['not']\n",
      "not\n"
     ]
    }
   ],
   "source": [
    "str='Mat man not mop tun rat mmm Mbb zava'\n",
    "import re\n",
    "lst=re.findall(r'n\\w\\w',str)\n",
    "print(lst)\n",
    "for i in lst:print(i)"
   ]
  },
  {
   "cell_type": "code",
   "execution_count": 15,
   "metadata": {},
   "outputs": [
    {
     "name": "stdout",
     "output_type": "stream",
     "text": [
      "Mat\n"
     ]
    }
   ],
   "source": [
    "str='Mat man not mop tun rat mmm'\n",
    "import re\n",
    "lst=re.match(r'M\\w\\w', str)\n",
    "if lst:\n",
    "    print(lst.group())\n",
    "else:\n",
    "    print(\"Not fount\")"
   ]
  },
  {
   "cell_type": "code",
   "execution_count": 16,
   "metadata": {},
   "outputs": [
    {
     "name": "stdout",
     "output_type": "stream",
     "text": [
      "[' 20 ', ' 32 ', ' 45 ']\n"
     ]
    }
   ],
   "source": [
    "#only age\n",
    "\n",
    "str='Vijay 20 1-10-2001, vishnu 32 21-02-3001, Raj 45 20-12-2001'\n",
    "\n",
    "import re\n",
    "obj=re.findall(r'\\s\\d\\d\\s',str)\n",
    "print(obj)"
   ]
  },
  {
   "cell_type": "code",
   "execution_count": 56,
   "metadata": {},
   "outputs": [
    {
     "name": "stdout",
     "output_type": "stream",
     "text": [
      "['Vijay ', ' ', '-', '-', ', vishnu ', ' ', '-', '-', ', Raj ', ' ', '-', '-']\n"
     ]
    }
   ],
   "source": [
    "#only char\n",
    "\n",
    "str='Vijay 20 1-10-2001, vishnu 32 21-02-3001, Raj 45 20-12-2001'\n",
    "\n",
    "import re\n",
    "obj1=re.findall(r'\\D+',str)\n",
    "print(obj1)"
   ]
  },
  {
   "cell_type": "code",
   "execution_count": 58,
   "metadata": {},
   "outputs": [
    {
     "name": "stdout",
     "output_type": "stream",
     "text": [
      "['1-10-2001', '21-02-3001', '20-12-2001']\n"
     ]
    }
   ],
   "source": [
    "#only b.day Date\n",
    "#only char\n",
    "\n",
    "str='Vijay 20 1-10-2001, vishnu 32 21-02-3001, Raj 45 20-12-2001'\n",
    "\n",
    "import re\n",
    "obj1=re.findall(r'\\d{1,2}-\\d{1,2}-\\d\\d\\d\\d',str)\n",
    "print(obj1)  "
   ]
  },
  {
   "cell_type": "code",
   "execution_count": 6,
   "metadata": {},
   "outputs": [
    {
     "name": "stdout",
     "output_type": "stream",
     "text": [
      "['vishnu', 'viskja']\n"
     ]
    }
   ],
   "source": [
    "#regax tetrieve all strings with an and ak\n",
    "data=\"vishnu akasahyu raj piyu rani uttu nalaycka anil anant ankur viskja\"\n",
    "import re\n",
    "lst=re.findall(r'v[is]\\w*',data)\n",
    "print(lst)"
   ]
  },
  {
   "cell_type": "code",
   "execution_count": 66,
   "metadata": {},
   "outputs": [
    {
     "name": "stdout",
     "output_type": "stream",
     "text": [
      "['gopi ', ' vinay subba rao ', '']\n"
     ]
    }
   ],
   "source": [
    "#one or more numbers available\n",
    "str='gopi 2222 vinay subba rao 45642'\n",
    "import re\n",
    "obj=re.split(r'\\d+', str)\n",
    "print(obj)"
   ]
  },
  {
   "cell_type": "code",
   "execution_count": 65,
   "metadata": {},
   "outputs": [
    {
     "data": {
      "text/plain": [
       "'Khmbhmela will be conducted at Hyderbad'"
      ]
     },
     "execution_count": 65,
     "metadata": {},
     "output_type": "execute_result"
    }
   ],
   "source": [
    "str='Khmbhmela will be conducted at Ahmedabad'\n",
    "import re\n",
    "str1=re.sub(r'Ahmedabad',r'Hyderbad',str)\n",
    "str1"
   ]
  },
  {
   "cell_type": "code",
   "execution_count": 69,
   "metadata": {},
   "outputs": [
    {
     "name": "stdout",
     "output_type": "stream",
     "text": [
      "Yes\n"
     ]
    }
   ],
   "source": [
    "#uing ^ start str is avialale ot not\n",
    "import re\n",
    "str= 'Hello world'\n",
    "obj=re.search(r'^He', str)\n",
    "if obj :print('Yes')\n",
    "else:print(\"NO\")"
   ]
  },
  {
   "cell_type": "code",
   "execution_count": 75,
   "metadata": {},
   "outputs": [
    {
     "name": "stdout",
     "output_type": "stream",
     "text": [
      "Yes\n"
     ]
    }
   ],
   "source": [
    "#$--end with str  (id is end or not)\n",
    "import re\n",
    "str= 'Hello world'\n",
    "obj=re.search(r'ld$', str)\n",
    "if obj :print('Yes')\n",
    "else:print(\"NO\")"
   ]
  },
  {
   "cell_type": "code",
   "execution_count": null,
   "metadata": {},
   "outputs": [],
   "source": [
    "import urllib.request"
   ]
  },
  {
   "cell_type": "code",
   "execution_count": 40,
   "metadata": {},
   "outputs": [
    {
     "data": {
      "text/plain": [
       "[2, 6, 10]"
      ]
     },
     "execution_count": 40,
     "metadata": {},
     "output_type": "execute_result"
    }
   ],
   "source": [
    "lst=[1,2,3,4,5,6,7,8,9,10]\n",
    "lst[1:10:4]\n",
    "\n"
   ]
  },
  {
   "cell_type": "code",
   "execution_count": null,
   "metadata": {},
   "outputs": [],
   "source": []
  },
  {
   "cell_type": "code",
   "execution_count": null,
   "metadata": {},
   "outputs": [],
   "source": []
  }
 ],
 "metadata": {
  "kernelspec": {
   "display_name": "Python 3",
   "language": "python",
   "name": "python3"
  },
  "language_info": {
   "codemirror_mode": {
    "name": "ipython",
    "version": 3
   },
   "file_extension": ".py",
   "mimetype": "text/x-python",
   "name": "python",
   "nbconvert_exporter": "python",
   "pygments_lexer": "ipython3",
   "version": "3.8.5"
  }
 },
 "nbformat": 4,
 "nbformat_minor": 4
}
