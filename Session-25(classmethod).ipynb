{
 "cells": [
  {
   "cell_type": "code",
   "execution_count": 1,
   "metadata": {},
   "outputs": [
    {
     "name": "stdout",
     "output_type": "stream",
     "text": [
      "10 10\n",
      "11 11\n",
      "12 12\n",
      "12\n"
     ]
    }
   ],
   "source": [
    "class Myclass:\n",
    "    x=10#class var\n",
    "    y=6\n",
    "    @classmethod  #class Method\n",
    "    \n",
    "    def modify(cls):\n",
    "        cls.x=cls.x+1\n",
    "        \n",
    "    def modefy1(cls):\n",
    "        cls.y=cls.y*2\n",
    "        \n",
    "m1=Myclass()\n",
    "m2=Myclass()\n",
    "#print(m1.x)\n",
    "#print(m2.x)\n",
    "print(m1.x, m2.x)\n",
    "\n",
    "m1.modify()\n",
    "print(m1.x, m2.x)\n",
    "\n",
    "m1.modify()\n",
    "print(m1.x, m1.x)\n",
    "\n",
    "m1.modefy1()\n",
    "print(m1.y)\n",
    "\n"
   ]
  },
  {
   "cell_type": "code",
   "execution_count": 47,
   "metadata": {},
   "outputs": [
    {
     "name": "stdout",
     "output_type": "stream",
     "text": [
      "10 10\n",
      "11 11\n",
      "12 11\n"
     ]
    }
   ],
   "source": [
    "class Myclass:\n",
    "    x=10#class var\n",
    "    #y=6\n",
    "    @classmethod  #class Method\n",
    "    \n",
    "    def modify(cls):\n",
    "        cls.x=cls.x+1\n",
    "\n",
    "        \n",
    "m1=Myclass()\n",
    "m2=Myclass()\n",
    "print(m1.x, m2.x)\n",
    "\n",
    "m1.modify()\n",
    "print(m1.x , m2.x)\n",
    "m1.x+=1\n",
    "print(m1.x , m2.x)"
   ]
  },
  {
   "cell_type": "code",
   "execution_count": 26,
   "metadata": {},
   "outputs": [
    {
     "name": "stdout",
     "output_type": "stream",
     "text": [
      "11\n"
     ]
    }
   ],
   "source": [
    "class myclass:\n",
    "    x=10\n",
    "    \n",
    "    @classmethod\n",
    "    \n",
    "    def modify(cls):\n",
    "        cls.x=cls.x+1\n",
    "\n",
    "m=myclass()\n",
    "m.modify()\n",
    "print(m.x)\n"
   ]
  },
  {
   "cell_type": "code",
   "execution_count": null,
   "metadata": {},
   "outputs": [],
   "source": []
  }
 ],
 "metadata": {
  "kernelspec": {
   "display_name": "Python 3",
   "language": "python",
   "name": "python3"
  },
  "language_info": {
   "codemirror_mode": {
    "name": "ipython",
    "version": 3
   },
   "file_extension": ".py",
   "mimetype": "text/x-python",
   "name": "python",
   "nbconvert_exporter": "python",
   "pygments_lexer": "ipython3",
   "version": "3.8.5"
  }
 },
 "nbformat": 4,
 "nbformat_minor": 4
}
