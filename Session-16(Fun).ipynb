{
 "cells": [
  {
   "cell_type": "markdown",
   "metadata": {},
   "source": [
    "# Positional args"
   ]
  },
  {
   "cell_type": "code",
   "execution_count": 5,
   "metadata": {},
   "outputs": [
    {
     "name": "stdout",
     "output_type": "stream",
     "text": [
      "vishnu\n"
     ]
    }
   ],
   "source": [
    "def join(s1,s2):\n",
    "    str=s1+s2\n",
    "    print(str)\n",
    "join('vish','nu')"
   ]
  },
  {
   "cell_type": "code",
   "execution_count": 6,
   "metadata": {},
   "outputs": [
    {
     "name": "stdout",
     "output_type": "stream",
     "text": [
      "nuvish\n"
     ]
    }
   ],
   "source": [
    "def join(s1,s2):\n",
    "    str=s2+s1\n",
    "    print(str)\n",
    "join('vish','nu')"
   ]
  },
  {
   "cell_type": "markdown",
   "metadata": {},
   "source": [
    "# keyword args"
   ]
  },
  {
   "cell_type": "code",
   "execution_count": 7,
   "metadata": {},
   "outputs": [
    {
     "name": "stdout",
     "output_type": "stream",
     "text": [
      "vishnu\n"
     ]
    }
   ],
   "source": [
    "def join(s1,s2):\n",
    "    str=s1+s2\n",
    "    print(str)\n",
    "join(s1='vish',s2='nu')"
   ]
  },
  {
   "cell_type": "code",
   "execution_count": 8,
   "metadata": {},
   "outputs": [
    {
     "name": "stdout",
     "output_type": "stream",
     "text": [
      "vishnu\n"
     ]
    }
   ],
   "source": [
    "def join(s1,s2):\n",
    "    str=s1+s2\n",
    "    print(str)\n",
    "join(s2='nu',s1='vish')"
   ]
  },
  {
   "cell_type": "markdown",
   "metadata": {},
   "source": [
    "# default args"
   ]
  },
  {
   "cell_type": "code",
   "execution_count": 11,
   "metadata": {},
   "outputs": [
    {
     "name": "stdout",
     "output_type": "stream",
     "text": [
      "Item name Suger\n",
      "price RS=500.00\n"
     ]
    }
   ],
   "source": [
    "def Dmart(item,price):\n",
    "    print('Item name %s' %item)\n",
    "    print('price RS=%.2f' %price)\n",
    "Dmart(\"Suger\", 500)"
   ]
  },
  {
   "cell_type": "code",
   "execution_count": 13,
   "metadata": {},
   "outputs": [
    {
     "name": "stdout",
     "output_type": "stream",
     "text": [
      "Item name Suger\n",
      "price RS=50.00\n"
     ]
    }
   ],
   "source": [
    "def Dmart(item,price=50):\n",
    "    print('Item name %s' %item)\n",
    "    print('price RS=%.2f' %price)\n",
    "Dmart(\"Suger\")"
   ]
  },
  {
   "cell_type": "code",
   "execution_count": 14,
   "metadata": {},
   "outputs": [
    {
     "name": "stdout",
     "output_type": "stream",
     "text": [
      "Item name oil\n",
      "price RS=50.00\n"
     ]
    }
   ],
   "source": [
    "def Dmart(item,price=50):\n",
    "    print('Item name %s' %item)\n",
    "    print('price RS=%.2f' %price)\n",
    "Dmart(\"oil\")"
   ]
  },
  {
   "cell_type": "code",
   "execution_count": 17,
   "metadata": {},
   "outputs": [
    {
     "name": "stdout",
     "output_type": "stream",
     "text": [
      "Item name oil\n",
      "price RS=300.00\n"
     ]
    }
   ],
   "source": [
    "def Dmart(item='Sugar',price=50):\n",
    "    print('Item name %s' %item)\n",
    "    print('price RS=%.2f' %price)\n",
    "Dmart(\"oil\", 300)\n"
   ]
  },
  {
   "cell_type": "code",
   "execution_count": 18,
   "metadata": {},
   "outputs": [
    {
     "name": "stdout",
     "output_type": "stream",
     "text": [
      "Item name Sugar\n",
      "price RS=50.00\n"
     ]
    }
   ],
   "source": [
    "def Dmart(item='Sugar',price=50):\n",
    "    print('Item name %s' %item)\n",
    "    print('price RS=%.2f' %price)\n",
    "Dmart()\n"
   ]
  },
  {
   "cell_type": "markdown",
   "metadata": {},
   "source": [
    "# Varlength Args\n",
    "#varages"
   ]
  },
  {
   "cell_type": "code",
   "execution_count": 22,
   "metadata": {},
   "outputs": [
    {
     "name": "stdout",
     "output_type": "stream",
     "text": [
      "(10, 11, 11, 10, 'vishnu')\n"
     ]
    }
   ],
   "source": [
    "def add(*x):\n",
    "    print(x)\n",
    "add(10,11,11,10,'vishnu')"
   ]
  },
  {
   "cell_type": "code",
   "execution_count": 31,
   "metadata": {},
   "outputs": [
    {
     "name": "stdout",
     "output_type": "stream",
     "text": [
      "42\n",
      "76\n",
      "40\n",
      "0\n"
     ]
    }
   ],
   "source": [
    "def add(*x):    #Variable length argument\n",
    "    res=sum(x)\n",
    "    print(res)\n",
    "add(10,11,11,10)\n",
    "add(11,65)\n",
    "add(11,29)\n",
    "add()"
   ]
  },
  {
   "cell_type": "raw",
   "metadata": {},
   "source": [
    "#function\n",
    "#1.we can assign a fun to a var"
   ]
  },
  {
   "cell_type": "code",
   "execution_count": 34,
   "metadata": {},
   "outputs": [
    {
     "name": "stdout",
     "output_type": "stream",
     "text": [
      "9\n"
     ]
    }
   ],
   "source": [
    "def square(x):\n",
    "    return x*x\n",
    "x=square(3)\n",
    "print(x)\n"
   ]
  },
  {
   "cell_type": "raw",
   "metadata": {},
   "source": [
    "2.we can pass a fun to anather fun"
   ]
  },
  {
   "cell_type": "code",
   "execution_count": 39,
   "metadata": {},
   "outputs": [
    {
     "name": "stdout",
     "output_type": "stream",
     "text": [
      "hello vishnu\n"
     ]
    }
   ],
   "source": [
    "def display(msg):\n",
    "    res=msg()\n",
    "    print(res +\"vishnu\")\n",
    "def msg():\n",
    "    return \"hello \"\n",
    "display(msg)\n",
    "    \n",
    "    "
   ]
  },
  {
   "cell_type": "raw",
   "metadata": {},
   "source": [
    "3.we can write a fun inside another fun \n",
    "4.We can returna fun from another fun"
   ]
  },
  {
   "cell_type": "code",
   "execution_count": 1,
   "metadata": {},
   "outputs": [
    {
     "name": "stdout",
     "output_type": "stream",
     "text": [
      "oneinside\n"
     ]
    }
   ],
   "source": [
    "def one():\n",
    "    def inside():\n",
    "        return 'inside'\n",
    "    return 'one' + inside()\n",
    "result= one()\n",
    "print(result)"
   ]
  },
  {
   "cell_type": "markdown",
   "metadata": {},
   "source": [
    "# insert"
   ]
  },
  {
   "cell_type": "code",
   "execution_count": null,
   "metadata": {},
   "outputs": [],
   "source": [
    "l"
   ]
  }
 ],
 "metadata": {
  "kernelspec": {
   "display_name": "Python 3",
   "language": "python",
   "name": "python3"
  },
  "language_info": {
   "codemirror_mode": {
    "name": "ipython",
    "version": 3
   },
   "file_extension": ".py",
   "mimetype": "text/x-python",
   "name": "python",
   "nbconvert_exporter": "python",
   "pygments_lexer": "ipython3",
   "version": "3.8.5"
  }
 },
 "nbformat": 4,
 "nbformat_minor": 4
}
