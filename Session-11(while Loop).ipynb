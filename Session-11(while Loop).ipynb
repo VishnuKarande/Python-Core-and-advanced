{
 "cells": [
  {
   "cell_type": "markdown",
   "metadata": {},
   "source": [
    "### Check if given password is correct or not"
   ]
  },
  {
   "cell_type": "code",
   "execution_count": 1,
   "metadata": {},
   "outputs": [
    {
     "data": {
      "text/plain": [
       "{10, 20, 30, 40, 50}"
      ]
     },
     "execution_count": 1,
     "metadata": {},
     "output_type": "execute_result"
    }
   ],
   "source": [
    "list=[10,10,20,30,20,30,40,50]\n",
    "a=set(list)\n",
    "a    "
   ]
  },
  {
   "cell_type": "code",
   "execution_count": 4,
   "metadata": {},
   "outputs": [
    {
     "name": "stdout",
     "output_type": "stream",
     "text": [
      "Origianl list  [10, 10, 20, 30, 20, 30, 40, 50]\n",
      "10\n",
      "10\n",
      "20\n",
      "30\n",
      "20\n",
      "30\n",
      "40\n",
      "50\n"
     ]
    }
   ],
   "source": [
    "list1=[10,10,20,30,20,30,40,50]\n",
    "print('Origianl list ', str(list))\n",
    "res=[]\n",
    "for i in list1:\n",
    "    if i not in res:\n",
    "        print(i)\n"
   ]
  },
  {
   "cell_type": "code",
   "execution_count": 5,
   "metadata": {},
   "outputs": [
    {
     "name": "stdout",
     "output_type": "stream",
     "text": [
      "The origal List is  [2, 2, 3, 3, 5, 7, 8, 9, 4, 4, 5, 5, 1, 10]\n"
     ]
    },
    {
     "data": {
      "text/plain": [
       "[None, None, None, None, None, None, None, None, None]"
      ]
     },
     "execution_count": 5,
     "metadata": {},
     "output_type": "execute_result"
    }
   ],
   "source": [
    "lst=[2,2,3,3,5,7,8,9,4,4,5,5,1,10]\n",
    "print('The origal List is ',lst)\n",
    "res=[]\n",
    "[res.append(x) for x in lst if x not in res]"
   ]
  },
  {
   "cell_type": "code",
   "execution_count": 5,
   "metadata": {},
   "outputs": [
    {
     "data": {
      "text/plain": [
       "set"
      ]
     },
     "execution_count": 5,
     "metadata": {},
     "output_type": "execute_result"
    }
   ],
   "source": [
    "type(a)"
   ]
  },
  {
   "cell_type": "code",
   "execution_count": 6,
   "metadata": {},
   "outputs": [
    {
     "name": "stdout",
     "output_type": "stream",
     "text": [
      "Enter The passwordyy\n",
      "password is incorrct Plz Try Again \n",
      "No\n"
     ]
    }
   ],
   "source": [
    "password='Vishnu'\n",
    "str=input('Enter The password')\n",
    "\n",
    "if str == password:\n",
    "    print(\"Yor are welcome\")\n",
    "    print('Yes')\n",
    "else:\n",
    "    print('password is incorrct Plz Try Again ')\n",
    "    print('No')"
   ]
  },
  {
   "cell_type": "code",
   "execution_count": 7,
   "metadata": {},
   "outputs": [
    {
     "name": "stdout",
     "output_type": "stream",
     "text": [
      "Enter The number(1-7) =6\n",
      "friday\n"
     ]
    }
   ],
   "source": [
    "n= int(input(\"Enter The number(1-7) =\"))\n",
    "if n==1:\n",
    "    print(\"Sunday\")\n",
    "elif n==2:\n",
    "    print('monday')\n",
    "elif n==3:\n",
    "    print('Tuesday')\n",
    "elif n==4:\n",
    "    print('Wednesday')\n",
    "elif n==5:\n",
    "    print(\"Thursday\")\n",
    "elif n==6:\n",
    "    print('friday')\n",
    "elif n==7:\n",
    "    print('saturday')\n",
    "else:\n",
    "    print('Not a valid Number')\n",
    "    print('Allow only Int Num')"
   ]
  },
  {
   "cell_type": "code",
   "execution_count": 77,
   "metadata": {},
   "outputs": [
    {
     "name": "stdout",
     "output_type": "stream",
     "text": [
      "Enter 1st num. 15\n",
      "Enter 2nd num. 1\n",
      "Bigger\n"
     ]
    }
   ],
   "source": [
    "m=int(input(\"Enter 1st num. \"))\n",
    "n=int(input('Enter 2nd num. '))\n",
    "\n",
    "if m>n:\n",
    "    print('Bigger')\n",
    "else:\n",
    "    print('smaller')\n"
   ]
  },
  {
   "cell_type": "markdown",
   "metadata": {},
   "source": [
    "## WHILE LOOP \n",
    "Display number 1-10"
   ]
  },
  {
   "cell_type": "code",
   "execution_count": 10,
   "metadata": {},
   "outputs": [
    {
     "name": "stdout",
     "output_type": "stream",
     "text": [
      "1\n",
      "2\n",
      "3\n",
      "4\n",
      "5\n",
      "6\n",
      "7\n",
      "8\n",
      "9\n",
      "10\n",
      "End\n"
     ]
    }
   ],
   "source": [
    "x=1\n",
    "\n",
    "while x<=10:\n",
    "    print(x)\n",
    "    x=x+1\n",
    "print('End')\n"
   ]
  },
  {
   "cell_type": "code",
   "execution_count": 46,
   "metadata": {},
   "outputs": [
    {
     "name": "stdout",
     "output_type": "stream",
     "text": [
      "1\n",
      "2\n",
      "3\n",
      "4\n",
      "5\n",
      "6\n",
      "7\n",
      "8\n",
      "9\n",
      "10\n",
      "End\n"
     ]
    }
   ],
   "source": [
    "x=1\n",
    "\n",
    "while x<=10:\n",
    "    print(x)\n",
    "    x+=1\n",
    "print('End')\n"
   ]
  },
  {
   "cell_type": "markdown",
   "metadata": {},
   "source": [
    "# To display No. from m to n "
   ]
  },
  {
   "cell_type": "code",
   "execution_count": 7,
   "metadata": {},
   "outputs": [
    {
     "name": "stdout",
     "output_type": "stream",
     "text": [
      "From Which 2\n",
      "Upto Which 9\n",
      "2\n",
      "3\n",
      "4\n",
      "5\n",
      "6\n",
      "7\n",
      "8\n",
      "9\n"
     ]
    }
   ],
   "source": [
    "m=int(input(\"From Which \"))\n",
    "n=int(input('Upto Which '))\n",
    "\n",
    "while m<=n:\n",
    "    print(m)\n",
    "    m+=1"
   ]
  },
  {
   "cell_type": "code",
   "execution_count": 25,
   "metadata": {},
   "outputs": [
    {
     "name": "stdout",
     "output_type": "stream",
     "text": [
      "From Which 10\n",
      "Upto Which 20\n",
      "10\n",
      "12\n",
      "14\n",
      "16\n",
      "18\n",
      "20\n"
     ]
    }
   ],
   "source": [
    "m=int(input(\"From Which \"))\n",
    "n=int(input('Upto Which '))\n",
    "\n",
    "while m<=n:\n",
    "    print(m)\n",
    "    m+=2\n",
    "    "
   ]
  },
  {
   "cell_type": "code",
   "execution_count": 24,
   "metadata": {},
   "outputs": [
    {
     "name": "stdout",
     "output_type": "stream",
     "text": [
      "Enter Tha Number 3\n",
      "This a odd number\n"
     ]
    }
   ],
   "source": [
    "n=int(input('Enter Tha Number '))\n",
    "if n % 2 ==0:\n",
    "    print(\"This is even Number\")\n",
    "elif n<0:\n",
    "    print('This is -ve Number')\n",
    "else:\n",
    "    print(\"This a odd number\")"
   ]
  },
  {
   "cell_type": "code",
   "execution_count": 26,
   "metadata": {},
   "outputs": [
    {
     "name": "stdout",
     "output_type": "stream",
     "text": [
      "From Which 10\n",
      "Upto Which 20\n",
      "10\n",
      "13\n",
      "16\n",
      "19\n"
     ]
    }
   ],
   "source": [
    "m=int(input(\"From Which \"))\n",
    "n=int(input('Upto Which '))\n",
    "\n",
    "while m<=n:\n",
    "    print(m)\n",
    "    m+=3"
   ]
  },
  {
   "cell_type": "code",
   "execution_count": 75,
   "metadata": {},
   "outputs": [
    {
     "name": "stdout",
     "output_type": "stream",
     "text": [
      "From Which 3\n",
      "Upto Which 21\n",
      "4\n",
      "6\n",
      "8\n",
      "10\n",
      "12\n",
      "14\n",
      "16\n",
      "18\n",
      "20\n"
     ]
    }
   ],
   "source": [
    "m=int(input(\"From Which \"))\n",
    "n=int(input('Upto Which '))\n",
    "\n",
    "if m%2 !=0:\n",
    "    m+=1\n",
    "    \n",
    "while m<=n:\n",
    "    print(m)\n",
    "    m+=2\n"
   ]
  },
  {
   "cell_type": "code",
   "execution_count": null,
   "metadata": {},
   "outputs": [],
   "source": []
  }
 ],
 "metadata": {
  "kernelspec": {
   "display_name": "Python 3",
   "language": "python",
   "name": "python3"
  },
  "language_info": {
   "codemirror_mode": {
    "name": "ipython",
    "version": 3
   },
   "file_extension": ".py",
   "mimetype": "text/x-python",
   "name": "python",
   "nbconvert_exporter": "python",
   "pygments_lexer": "ipython3",
   "version": "3.8.5"
  }
 },
 "nbformat": 4,
 "nbformat_minor": 4
}
