{
 "cells": [
  {
   "cell_type": "code",
   "execution_count": 20,
   "metadata": {},
   "outputs": [
    {
     "name": "stdout",
     "output_type": "stream",
     "text": [
      "Enter a string : 2\n",
      "you Entered  2\n"
     ]
    }
   ],
   "source": [
    "str= input('Enter a string : ')\n",
    "print('you Entered ', str)"
   ]
  },
  {
   "cell_type": "code",
   "execution_count": 22,
   "metadata": {},
   "outputs": [
    {
     "name": "stdout",
     "output_type": "stream",
     "text": [
      "Enter a strings: AAA\n",
      "You Entered  AAA\n"
     ]
    }
   ],
   "source": [
    "print('You Entered ', input('Enter a strings: '))"
   ]
  },
  {
   "cell_type": "code",
   "execution_count": 25,
   "metadata": {},
   "outputs": [
    {
     "name": "stdout",
     "output_type": "stream",
     "text": [
      "Enter a Stringsvishnu\n",
      "You Entered  vis\n"
     ]
    }
   ],
   "source": [
    "str=input(\"Enter a Strings\")\n",
    "print('You Entered ', str[0:3])"
   ]
  },
  {
   "cell_type": "code",
   "execution_count": 26,
   "metadata": {},
   "outputs": [
    {
     "name": "stdout",
     "output_type": "stream",
     "text": [
      "Enter a StringsRaju\n",
      "You Entered  R\n"
     ]
    }
   ],
   "source": [
    "str=input(\"Enter a Strings\")\n",
    "print('You Entered= ', str[0])"
   ]
  },
  {
   "cell_type": "code",
   "execution_count": 28,
   "metadata": {},
   "outputs": [
    {
     "name": "stdout",
     "output_type": "stream",
     "text": [
      "Enter A string vishn\n",
      "you Entered  vishn\n"
     ]
    }
   ],
   "source": [
    "print('Enter A string ', end='' )\n",
    "str= input()\n",
    "print('you Entered ', str)"
   ]
  },
  {
   "cell_type": "markdown",
   "metadata": {},
   "source": [
    "# Accept The Int Number in Keyboard"
   ]
  },
  {
   "cell_type": "code",
   "execution_count": 1,
   "metadata": {},
   "outputs": [
    {
     "name": "stdout",
     "output_type": "stream",
     "text": [
      "Enter a Intergar Number : eee\n"
     ]
    },
    {
     "ename": "ValueError",
     "evalue": "invalid literal for int() with base 10: 'eee'",
     "output_type": "error",
     "traceback": [
      "\u001b[1;31m---------------------------------------------------------------------------\u001b[0m",
      "\u001b[1;31mValueError\u001b[0m                                Traceback (most recent call last)",
      "\u001b[1;32m<ipython-input-1-321bae77c410>\u001b[0m in \u001b[0;36m<module>\u001b[1;34m\u001b[0m\n\u001b[0;32m      1\u001b[0m \u001b[0mstr\u001b[0m\u001b[1;33m=\u001b[0m\u001b[0minput\u001b[0m\u001b[1;33m(\u001b[0m\u001b[1;34m\"Enter a Intergar Number : \"\u001b[0m\u001b[1;33m)\u001b[0m\u001b[1;33m\u001b[0m\u001b[1;33m\u001b[0m\u001b[0m\n\u001b[1;32m----> 2\u001b[1;33m \u001b[0mnum\u001b[0m\u001b[1;33m=\u001b[0m\u001b[0mint\u001b[0m\u001b[1;33m(\u001b[0m\u001b[0mstr\u001b[0m\u001b[1;33m)\u001b[0m\u001b[1;33m\u001b[0m\u001b[1;33m\u001b[0m\u001b[0m\n\u001b[0m",
      "\u001b[1;31mValueError\u001b[0m: invalid literal for int() with base 10: 'eee'"
     ]
    }
   ],
   "source": [
    "str=input(\"Enter a Intergar Number : \")\n",
    "num=int(str)"
   ]
  },
  {
   "cell_type": "code",
   "execution_count": 33,
   "metadata": {},
   "outputs": [
    {
     "name": "stdout",
     "output_type": "stream",
     "text": [
      "Enter The number 121321\n"
     ]
    }
   ],
   "source": [
    "str=input(\"Enter The number \")"
   ]
  },
  {
   "cell_type": "markdown",
   "metadata": {},
   "source": [
    "# Accept The Float Number in Keyboard"
   ]
  },
  {
   "cell_type": "code",
   "execution_count": 37,
   "metadata": {},
   "outputs": [
    {
     "name": "stdout",
     "output_type": "stream",
     "text": [
      "Enter a float1324\n",
      "1324\n"
     ]
    }
   ],
   "source": [
    "print(input(\"Enter a float\"))"
   ]
  },
  {
   "cell_type": "code",
   "execution_count": 39,
   "metadata": {},
   "outputs": [
    {
     "name": "stdout",
     "output_type": "stream",
     "text": [
      "Ebter a Float :2\n"
     ]
    }
   ],
   "source": [
    "num=float(input('Enter a Float :'))"
   ]
  },
  {
   "cell_type": "code",
   "execution_count": 40,
   "metadata": {},
   "outputs": [
    {
     "data": {
      "text/plain": [
       "float"
      ]
     },
     "execution_count": 40,
     "metadata": {},
     "output_type": "execute_result"
    }
   ],
   "source": [
    "type(num)"
   ]
  },
  {
   "cell_type": "code",
   "execution_count": 41,
   "metadata": {},
   "outputs": [
    {
     "name": "stdout",
     "output_type": "stream",
     "text": [
      "Enter a Float :12.5\n"
     ]
    }
   ],
   "source": [
    "num=float(input('Enter a Float :'))"
   ]
  },
  {
   "cell_type": "markdown",
   "metadata": {},
   "source": [
    "# Progam"
   ]
  },
  {
   "cell_type": "code",
   "execution_count": 44,
   "metadata": {},
   "outputs": [
    {
     "name": "stdout",
     "output_type": "stream",
     "text": [
      "Enter tha 1ST number 1\n",
      "Enter The 2nd number 1\n",
      "Enter The 3rd number 1\n",
      "Total is a  3\n"
     ]
    }
   ],
   "source": [
    "a=int(input(\"Enter tha 1ST number \"))\n",
    "b=int(input(\"Enter The 2nd number \"))\n",
    "c=int(input(\"Enter The 3rd number \"))\n",
    "\n",
    "num = a+b+c\n",
    "print('Total is a ', num)\n"
   ]
  },
  {
   "cell_type": "markdown",
   "metadata": {},
   "source": [
    "# How to accept 3 nos  from keybord and find their sum"
   ]
  },
  {
   "cell_type": "code",
   "execution_count": 54,
   "metadata": {},
   "outputs": [
    {
     "data": {
      "text/plain": [
       "['vishnu']"
      ]
     },
     "execution_count": 54,
     "metadata": {},
     "output_type": "execute_result"
    }
   ],
   "source": [
    "a='vishnu    '\n",
    "a.split()"
   ]
  },
  {
   "cell_type": "code",
   "execution_count": 49,
   "metadata": {},
   "outputs": [
    {
     "data": {
      "text/plain": [
       "str"
      ]
     },
     "execution_count": 49,
     "metadata": {},
     "output_type": "execute_result"
    }
   ],
   "source": [
    "type(a)"
   ]
  },
  {
   "cell_type": "code",
   "execution_count": 61,
   "metadata": {},
   "outputs": [
    {
     "name": "stdout",
     "output_type": "stream",
     "text": [
      "Enter The three Number10 20 30\n",
      "Sum of Three number 60\n"
     ]
    }
   ],
   "source": [
    "a,b,c=[int(i) for i in input('Enter The three Number ').split()]\n",
    "sum= a+b+c\n",
    "print('Sum of Three number',sum)"
   ]
  },
  {
   "cell_type": "code",
   "execution_count": 66,
   "metadata": {},
   "outputs": [
    {
     "data": {
      "text/plain": [
       "'vishnu'"
      ]
     },
     "execution_count": 66,
     "metadata": {},
     "output_type": "execute_result"
    }
   ],
   "source": [
    "a1='  vishnu'\n",
    "a1.strip()"
   ]
  },
  {
   "cell_type": "code",
   "execution_count": 67,
   "metadata": {},
   "outputs": [
    {
     "name": "stdout",
     "output_type": "stream",
     "text": [
      "Enter The three Number 10,20,30\n",
      "Sum of Three number 60\n"
     ]
    }
   ],
   "source": [
    "a,b,c=[int(i) for i in input('Enter The three Number ').split(',')]\n",
    "sum= a+b+c\n",
    "print('Sum of Three number',sum)"
   ]
  },
  {
   "cell_type": "code",
   "execution_count": 73,
   "metadata": {},
   "outputs": [
    {
     "name": "stdout",
     "output_type": "stream",
     "text": [
      "Enter The three Number 12.3 24.4 536.6\n",
      "Sum of Three number 573.3000000000001\n"
     ]
    }
   ],
   "source": [
    "a,b,c=[float(i) for i in input('Enter The three Number ').split()]\n",
    "sum= a+b+c\n",
    "print('Sum of Three number',sum) "
   ]
  },
  {
   "cell_type": "code",
   "execution_count": 74,
   "metadata": {},
   "outputs": [
    {
     "name": "stdout",
     "output_type": "stream",
     "text": [
      "Enter The three Number 12 23.4 13\n",
      "Sum of Three number 48.4\n"
     ]
    }
   ],
   "source": [
    "a,b,c=[float(i) for i in input('Enter The three Number ').split()]\n",
    "sum= a+b+c\n",
    "print('Sum of Three number',sum) "
   ]
  },
  {
   "cell_type": "markdown",
   "metadata": {},
   "source": [
    "# How to accept 3 nos from keybord and find their sum"
   ]
  },
  {
   "cell_type": "code",
   "execution_count": 89,
   "metadata": {},
   "outputs": [
    {
     "name": "stdout",
     "output_type": "stream",
     "text": [
      "Enter the String  z a v\n",
      "['a', 'v', 'z']\n",
      "a\n",
      "v\n",
      "z\n"
     ]
    }
   ],
   "source": [
    "lst=[i for i in input('Enter the String ').split()]\n",
    "lst.sort()\n",
    "print(lst)\n",
    "for i in lst:\n",
    "    print(i)\n"
   ]
  },
  {
   "cell_type": "code",
   "execution_count": 90,
   "metadata": {},
   "outputs": [
    {
     "name": "stdout",
     "output_type": "stream",
     "text": [
      "Enter the String z a c\n",
      "['a', 'c', 'z']\n",
      "['a', 'c', 'z']\n",
      "['a', 'c', 'z']\n",
      "['a', 'c', 'z']\n"
     ]
    }
   ],
   "source": [
    "lst=[i for i in input('Enter the String ').split()]\n",
    "lst.sort()\n",
    "print(lst)\n",
    "for i in lst:\n",
    "    print(lst)\n",
    "    "
   ]
  },
  {
   "cell_type": "code",
   "execution_count": 8,
   "metadata": {},
   "outputs": [
    {
     "name": "stdout",
     "output_type": "stream",
     "text": [
      "Enter the String = ccc ,   h   ,   yu  ,nn, jjj  , \n",
      "ccc\n",
      "h\n",
      "yu\n",
      "nn\n",
      "jjj\n",
      "\n"
     ]
    }
   ],
   "source": [
    "lst=[i for i in input('Enter the String = ').split(',')]\n",
    "lst1=[]\n",
    "for i in lst:\n",
    "    lst1.append(i.strip())\n",
    "lst.sort()   \n",
    "for i in lst1:print(i)"
   ]
  },
  {
   "cell_type": "code",
   "execution_count": null,
   "metadata": {},
   "outputs": [],
   "source": []
  }
 ],
 "metadata": {
  "kernelspec": {
   "display_name": "Python 3",
   "language": "python",
   "name": "python3"
  },
  "language_info": {
   "codemirror_mode": {
    "name": "ipython",
    "version": 3
   },
   "file_extension": ".py",
   "mimetype": "text/x-python",
   "name": "python",
   "nbconvert_exporter": "python",
   "pygments_lexer": "ipython3",
   "version": "3.8.5"
  }
 },
 "nbformat": 4,
 "nbformat_minor": 4
}
