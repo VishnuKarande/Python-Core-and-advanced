{
 "cells": [
  {
   "cell_type": "code",
   "execution_count": 4,
   "metadata": {},
   "outputs": [
    {
     "name": "stdout",
     "output_type": "stream",
     "text": [
      "Yes it is Hello\n",
      "Done\n"
     ]
    }
   ],
   "source": [
    "str = 'Hello'\n",
    "if str == \"Hello\":\n",
    "    print(\"Yes it is Hello\")\n",
    "    print('Done')"
   ]
  },
  {
   "cell_type": "code",
   "execution_count": 7,
   "metadata": {},
   "outputs": [],
   "source": [
    "str = 'Hello1'\n",
    "if str == \"Hello\":\n",
    "    print(\"Yes it is Hello\")\n",
    "    print('Done')\n",
    "    #no showing output\n",
    "    "
   ]
  },
  {
   "cell_type": "code",
   "execution_count": 12,
   "metadata": {},
   "outputs": [
    {
     "name": "stdout",
     "output_type": "stream",
     "text": [
      "End\n"
     ]
    }
   ],
   "source": [
    "str = 'Hello1'\n",
    "if str == \"vishnu\":\n",
    "    print(\"Yes it is Hello\")\n",
    "    print('Done')\n",
    "print(\"End\")"
   ]
  },
  {
   "cell_type": "code",
   "execution_count": 13,
   "metadata": {},
   "outputs": [
    {
     "name": "stdout",
     "output_type": "stream",
     "text": [
      "Yes it is Hello\n",
      "Done\n"
     ]
    }
   ],
   "source": [
    "str = 'Hello'\n",
    "if str == \"Hello\":\n",
    "    print(\"Yes it is Hello\")\n",
    "    print('Done')"
   ]
  },
  {
   "cell_type": "code",
   "execution_count": 18,
   "metadata": {},
   "outputs": [
    {
     "name": "stdout",
     "output_type": "stream",
     "text": [
      "Enter The even number=4\n",
      "4 is a Even\n"
     ]
    }
   ],
   "source": [
    "num= int(input(\"Enter The even number=\"))\n",
    "if num % 2 == 0:\n",
    "    print(num,'is a Even')"
   ]
  },
  {
   "cell_type": "code",
   "execution_count": 19,
   "metadata": {},
   "outputs": [
    {
     "name": "stdout",
     "output_type": "stream",
     "text": [
      "Enter The even number=3\n"
     ]
    }
   ],
   "source": [
    "num= int(input(\"Enter The even number=\"))\n",
    "if num % 2 == 0:\n",
    "    print(num,'is a Even')"
   ]
  },
  {
   "cell_type": "code",
   "execution_count": 21,
   "metadata": {},
   "outputs": [
    {
     "name": "stdout",
     "output_type": "stream",
     "text": [
      "Enter The even number=3\n",
      "3 is a odd number\n"
     ]
    }
   ],
   "source": [
    "num= int(input(\"Enter The even number=\"))\n",
    "if num % 2 == 0:\n",
    "    print(num,'is a Even number')\n",
    "else:\n",
    "    print(num ,'is a odd number' )"
   ]
  },
  {
   "cell_type": "code",
   "execution_count": 27,
   "metadata": {},
   "outputs": [
    {
     "name": "stdout",
     "output_type": "stream",
     "text": [
      "Enter The even number=-3\n",
      "-3 is a odd number\n",
      "NO\n"
     ]
    }
   ],
   "source": [
    "\n",
    "num= int(input(\"Enter The even number=\"))\n",
    "if num == 0:\n",
    "    print('Is is Zero')\n",
    "elif num % 2 == 0:\n",
    "    print(num,'is a Even number')\n",
    "    print('Yes')\n",
    "else:\n",
    "    print(num ,'is a odd number' )\n",
    "    print('NO')"
   ]
  },
  {
   "cell_type": "markdown",
   "metadata": {},
   "source": [
    "## Accept -ve and +ve number and test it"
   ]
  },
  {
   "cell_type": "code",
   "execution_count": 3,
   "metadata": {},
   "outputs": [
    {
     "name": "stdout",
     "output_type": "stream",
     "text": [
      "Enter The any Number=-3\n",
      "this Number is -ve\n"
     ]
    }
   ],
   "source": [
    "num=int(input(\"Enter The any Number=\"))\n",
    "if num == 0:\n",
    "    print('This numbers is zero')\n",
    "elif num>0:\n",
    "    print('This number is +ve')\n",
    "else:\n",
    "    print('this Number is -ve')"
   ]
  },
  {
   "cell_type": "code",
   "execution_count": 11,
   "metadata": {},
   "outputs": [],
   "source": [
    "list1=[10,20,10,29,19,29,19]\n"
   ]
  },
  {
   "cell_type": "code",
   "execution_count": null,
   "metadata": {},
   "outputs": [],
   "source": []
  }
 ],
 "metadata": {
  "kernelspec": {
   "display_name": "Python 3",
   "language": "python",
   "name": "python3"
  },
  "language_info": {
   "codemirror_mode": {
    "name": "ipython",
    "version": 3
   },
   "file_extension": ".py",
   "mimetype": "text/x-python",
   "name": "python",
   "nbconvert_exporter": "python",
   "pygments_lexer": "ipython3",
   "version": "3.8.5"
  }
 },
 "nbformat": 4,
 "nbformat_minor": 4
}
