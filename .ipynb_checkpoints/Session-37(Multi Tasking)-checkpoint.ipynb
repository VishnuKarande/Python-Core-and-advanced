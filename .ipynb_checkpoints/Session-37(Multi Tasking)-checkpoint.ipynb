{
 "cells": [
  {
   "cell_type": "code",
   "execution_count": 8,
   "metadata": {},
   "outputs": [
    {
     "name": "stdout",
     "output_type": "stream",
     "text": [
      "Boils milks and tea power 5 min...\n",
      "Add sugaer and continue for 2 min...\n",
      "Filter and serve to guest.!\n"
     ]
    }
   ],
   "source": [
    "from threading import *\n",
    "from time import sleep\n",
    "\n",
    "class Myclass(Thread):\n",
    "    def run(self):\n",
    "        self.task1()\n",
    "        self.task2()\n",
    "        self.task3()\n",
    "    def task1(self):\n",
    "        print(\"Boils milks and tea power 5 min...\")\n",
    "        sleep(5)\n",
    "    def task2(self):\n",
    "        print(\"Add sugaer and continue for 2 min...\")\n",
    "        sleep(2)\n",
    "    def task3(self):\n",
    "        print(\"Filter and serve to guest.!\")\n",
    "mc = Myclass()\n",
    "mc.start()"
   ]
  },
  {
   "cell_type": "markdown",
   "metadata": {},
   "source": [
    "# Multi Tasking\n",
    "Theatre Example"
   ]
  },
  {
   "cell_type": "code",
   "execution_count": 20,
   "metadata": {},
   "outputs": [
    {
     "name": "stdout",
     "output_type": "stream",
     "text": [
      "Cut the ticket for ticket no :1\n",
      "Show the Chair for ticket no :1\n",
      "Cut the ticket for ticket no :10Show the Chair for ticket no :10\n",
      "\n",
      "Cut the ticket for ticket no :2Show the Chair for ticket no :2\n",
      "\n",
      "Cut the ticket for ticket no :3Show the Chair for ticket no :3\n",
      "\n",
      "Cut the ticket for ticket no :4Show the Chair for ticket no :4\n",
      "\n",
      "Show the Chair for ticket no :5Cut the ticket for ticket no :5\n",
      "\n",
      "Show the Chair for ticket no :6Cut the ticket for ticket no :6\n",
      "\n",
      "Cut the ticket for ticket no :7\n",
      "Show the Chair for ticket no :7\n",
      "Cut the ticket for ticket no :8\n",
      "Show the Chair for ticket no :8\n",
      "Cut the ticket for ticket no :9\n",
      "Show the Chair for ticket no :9\n",
      "Cut the ticket for ticket no :10\n",
      "Show the Chair for ticket no :10\n"
     ]
    }
   ],
   "source": [
    "from threading import *\n",
    "from time import sleep\n",
    "\n",
    "class Thretre:\n",
    "    def __init__(self,str):\n",
    "        self.str=str\n",
    "    \n",
    "    def tasks(self):\n",
    "        for i in range(1,11):\n",
    "            print(\"%s for ticket no :%d\" % (self.str,i))\n",
    "            sleep(3) #1.5 delay\n",
    "\n",
    "obj1=Thretre(\"Cut the ticket\")\n",
    "obj2=Thretre(\"Show the Chair\")\n",
    "\n",
    "t1=Thread(target=obj1.tasks)\n",
    "t2=Thread(target=obj2.tasks)\n",
    "\n",
    "t1.start() \n",
    "t2.start()"
   ]
  },
  {
   "cell_type": "code",
   "execution_count": null,
   "metadata": {},
   "outputs": [],
   "source": []
  }
 ],
 "metadata": {
  "kernelspec": {
   "display_name": "Python 3",
   "language": "python",
   "name": "python3"
  },
  "language_info": {
   "codemirror_mode": {
    "name": "ipython",
    "version": 3
   },
   "file_extension": ".py",
   "mimetype": "text/x-python",
   "name": "python",
   "nbconvert_exporter": "python",
   "pygments_lexer": "ipython3",
   "version": "3.8.5"
  }
 },
 "nbformat": 4,
 "nbformat_minor": 4
}
