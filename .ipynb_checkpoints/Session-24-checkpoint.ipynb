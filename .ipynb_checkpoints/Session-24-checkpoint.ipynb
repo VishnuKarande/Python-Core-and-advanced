{
 "cells": [
  {
   "cell_type": "code",
   "execution_count": 3,
   "metadata": {},
   "outputs": [
    {
     "name": "stdout",
     "output_type": "stream",
     "text": [
      "vishnu\n",
      "22\n"
     ]
    }
   ],
   "source": [
    "class person:\n",
    "    def __init__(self):\n",
    "        self.name = 'vishnu' \n",
    "        self.age= 22\n",
    "    \n",
    "    def talk(self):\n",
    "        print(\"Hello i am \", self.name)\n",
    "        print('My age is ', self.age)\n",
    "\n",
    "p1 = person()\n",
    "print(p1.name)\n",
    "print(p1.age)\n",
    "    "
   ]
  },
  {
   "cell_type": "code",
   "execution_count": 6,
   "metadata": {},
   "outputs": [
    {
     "name": "stdout",
     "output_type": "stream",
     "text": [
      "Hello i am  vishnu\n",
      "My age is  22\n",
      "Hello i am  vishnu\n",
      "My age is  22\n"
     ]
    }
   ],
   "source": [
    "class person:\n",
    "    def __init__(self):\n",
    "        self.name = 'vishnu' \n",
    "        self.age= 22\n",
    "    \n",
    "    def talk(self):\n",
    "        print(\"Hello i am \", self.name)\n",
    "        print('My age is ', self.age)\n",
    "    \n",
    "\n",
    "p1 = person()\n",
    "p1.talk()\n",
    "\n",
    "p2= person()\n",
    "p2.talk()"
   ]
  },
  {
   "cell_type": "code",
   "execution_count": 8,
   "metadata": {},
   "outputs": [
    {
     "name": "stdout",
     "output_type": "stream",
     "text": [
      "Hello i am  vishnu\n",
      "My age is  29\n"
     ]
    }
   ],
   "source": [
    "class person:\n",
    "    def __init__(self,n,a):\n",
    "        self.name = n \n",
    "        self.age= a\n",
    "    \n",
    "    def talk(self):\n",
    "        print(\"Hello i am \", self.name)\n",
    "        print('My age is ', self.age)\n",
    "\n",
    "p1 = person('vishnu', 29)\n",
    "p1.talk()\n",
    "    "
   ]
  },
  {
   "cell_type": "code",
   "execution_count": 14,
   "metadata": {},
   "outputs": [
    {
     "name": "stdout",
     "output_type": "stream",
     "text": [
      "Hello i am  Venkat\n",
      "My age is  55\n",
      "Hello i am  Raju\n",
      "My age is  2\n"
     ]
    }
   ],
   "source": [
    "class person:\n",
    "    def __init__(self,n,a):\n",
    "        self.name = n \n",
    "        self.age= a\n",
    "    \n",
    "    def talk(self):\n",
    "        print(\"Hello i am \", self.name)\n",
    "        print('My age is ', self.age)\n",
    "\n",
    "p1 = person('Venkat', 55)\n",
    "p1.talk()\n",
    "    \n",
    "p2 = person('Raju',2)\n",
    "p2.talk()"
   ]
  },
  {
   "cell_type": "code",
   "execution_count": 14,
   "metadata": {},
   "outputs": [
    {
     "name": "stdout",
     "output_type": "stream",
     "text": [
      "student rno= 10\n",
      "Sudent name is = Vishnu\n",
      "Student address is= pune\n",
      "% is  65.0\n"
     ]
    }
   ],
   "source": [
    "class Student:\n",
    "    def __init__(self):\n",
    "        self.rno=10\n",
    "        self.name='Vishnu'\n",
    "        self.address='pune'\n",
    "        self.marks=[60,60,75]\n",
    "    \n",
    "    def display(self):\n",
    "        print('student rno= %d' % self.rno)\n",
    "        print('Sudent name is = %s' %self.name)\n",
    "        print('Student address is= %s'%self.address)\n",
    "        tot=sum(self.marks)\n",
    "        percentege=tot/len(self.marks)\n",
    "        print('% is ', percentege)\n",
    "\n",
    "c1=Student()\n",
    "c1.display()       "
   ]
  },
  {
   "cell_type": "code",
   "execution_count": 15,
   "metadata": {},
   "outputs": [
    {
     "name": "stdout",
     "output_type": "stream",
     "text": [
      "Student RollNo  88\n",
      "studenaddt Name is = Vishu\n",
      "Student Address is = Pune\n",
      "Total Precentage is= 35.00\n"
     ]
    }
   ],
   "source": [
    "class student:\n",
    "    def __init__(self,r,n,a,m):\n",
    "        self.rollno=r\n",
    "        self.name=n\n",
    "        self.address=a\n",
    "        self.marks=m\n",
    "        \n",
    "    def Display(self):\n",
    "        print('Student RollNo  %d' %self.rollno)\n",
    "        print('studenaddt Name is = %s' %self.name)\n",
    "        print('Student Address is = %s' %self.address)\n",
    "        total=sum(self.marks)\n",
    "        avg=total/len(self.marks)\n",
    "        print(\"Total Precentage is= %.2f\"%avg)\n",
    "c1=student(88,'Vishu', \"Pune\" ,[35,35,35])\n",
    "c1.Display()\n",
    "        "
   ]
  },
  {
   "cell_type": "code",
   "execution_count": 18,
   "metadata": {},
   "outputs": [
    {
     "name": "stdout",
     "output_type": "stream",
     "text": [
      "Enter a Student Rollno :101\n",
      "Enter A student Name: vishu\n",
      "Enter Address: xyz\n",
      "Enter A Marks20 20 20\n",
      "Student RollNo  101\n",
      "studenaddt Name is = vishu\n",
      "Student Address is = xyz\n",
      "Total Precentage is= 20.00\n"
     ]
    }
   ],
   "source": [
    "class Student:\n",
    "    def __init__(self,rolno, name,add,Marks):\n",
    "        self.rolno=rolno\n",
    "        self.name=name\n",
    "        self.address=add\n",
    "        self.marks=marks\n",
    "    \n",
    "    def Display():\n",
    "        print(\"Student Roll Numbers = %d\" %rolno)\n",
    "        print(\"Student Name is = %s\" %name)\n",
    "        print(\"Student Addresses is %s\"%address)\n",
    "        Total=sum(self.marks)\n",
    "        Avg=Total/len(self.marks)\n",
    "        Print(\"Percentage is %.2f\" %Avg)\n",
    "        \n",
    "        \n",
    "rolno=int(input(\"Enter a Student Rollno :\"))\n",
    "name=input(\"Enter A student Name: \")\n",
    "Add=input(\"Enter Address: \")\n",
    "marks= [int(i) for i in input(\"Enter A Marks\").split()]\n",
    "\n",
    "x1=student(rolno,name,Add,marks)\n",
    "x1.Display()\n"
   ]
  },
  {
   "cell_type": "code",
   "execution_count": null,
   "metadata": {},
   "outputs": [],
   "source": []
  }
 ],
 "metadata": {
  "kernelspec": {
   "display_name": "Python 3",
   "language": "python",
   "name": "python3"
  },
  "language_info": {
   "codemirror_mode": {
    "name": "ipython",
    "version": 3
   },
   "file_extension": ".py",
   "mimetype": "text/x-python",
   "name": "python",
   "nbconvert_exporter": "python",
   "pygments_lexer": "ipython3",
   "version": "3.8.5"
  }
 },
 "nbformat": 4,
 "nbformat_minor": 4
}
