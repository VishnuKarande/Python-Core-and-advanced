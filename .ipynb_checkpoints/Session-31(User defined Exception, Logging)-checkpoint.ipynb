{
 "cells": [
  {
   "cell_type": "markdown",
   "metadata": {},
   "source": [
    "# Assertion Ex"
   ]
  },
  {
   "cell_type": "code",
   "execution_count": 4,
   "metadata": {},
   "outputs": [
    {
     "name": "stdout",
     "output_type": "stream",
     "text": [
      "Enter a number (n<100)1223\n",
      "Wrong Input Entered\n"
     ]
    }
   ],
   "source": [
    "try:\n",
    "    num = int(input('Enter a number (n<100)'))\n",
    "    assert num < 100, 'Wrong Input Entered'\n",
    "except AssertionError as ae:\n",
    "    print(ae)\n",
    "else:\n",
    "    print(\"U Enterd = \", num)\n"
   ]
  },
  {
   "cell_type": "code",
   "execution_count": 20,
   "metadata": {},
   "outputs": [],
   "source": [
    "#User defined Exception\n"
   ]
  },
  {
   "cell_type": "code",
   "execution_count": 24,
   "metadata": {},
   "outputs": [
    {
     "name": "stdout",
     "output_type": "stream",
     "text": [
      "vishnu          2000.00\n",
      "Raj             3000.00\n",
      "rani            40000.00\n",
      "akshay          1100.00\n",
      "Balance ammount is less than 2000\n"
     ]
    }
   ],
   "source": [
    "class MYexception(Exception):\n",
    "    def __init__(self, str):\n",
    "        self.str=str\n",
    "\n",
    "def check(bank):\n",
    "    for k,v in bank.items():\n",
    "        print('%-15s %.2f' %(k,v))\n",
    "        #raise user defined exception if balance >200\n",
    "        if v<2000:\n",
    "            raise MYexception(\"Balance ammount is less than 2000\")\n",
    "            break\n",
    "    \n",
    "    \n",
    "bank={\"vishnu\":2000,\"Raj\":3000,\"rani\":40000,\"akshay\":1100,\"sita\":3000} \n",
    "\n",
    "try:\n",
    "    check(bank)\n",
    "except MYexception as me:\n",
    "    print(me)"
   ]
  },
  {
   "cell_type": "code",
   "execution_count": 44,
   "metadata": {},
   "outputs": [
    {
     "name": "stdout",
     "output_type": "stream",
     "text": [
      "vishnu          2000.00\n",
      "Raj             3000.00\n",
      "Balance ammount is less than 2000\n"
     ]
    }
   ],
   "source": [
    "class MYexception(Exception):\n",
    "    def __init__(self, str):\n",
    "        self.str=str\n",
    "\n",
    "def check(bank):\n",
    "    for k,v in bank.items():\n",
    "        print('%-15s %.2f' %(k,v))\n",
    "        #raise user defined exception if balance >200\n",
    "        if v==3000:\n",
    "            raise MYexception(\"Balance ammount is less than 2000\")\n",
    "            break\n",
    "    \n",
    "    \n",
    "bank={\"vishnu\":2000, \"Raj\":3000, \"rani\":40000, \"akshay\":1100, \"sita\":3000} \n",
    "\n",
    "try:\n",
    "    check(bank)\n",
    "except MYexception as me:\n",
    "    print(me)"
   ]
  },
  {
   "cell_type": "markdown",
   "metadata": {},
   "source": [
    "# Logging"
   ]
  },
  {
   "cell_type": "code",
   "execution_count": 42,
   "metadata": {},
   "outputs": [
    {
     "name": "stdout",
     "output_type": "stream",
     "text": [
      "Enter the 1st Numbers2\n",
      "Enter the 2nd numbers0\n"
     ]
    }
   ],
   "source": [
    "import logging\n",
    "logging.basicConfig(filename=\"Mylog.txt\", level=logging.ERROR)\n",
    "try:\n",
    "    n1=int(input(\"Enter the 1st Numbers\"))\n",
    "    n2=int(input(\"Enter the 2nd numbers\"))\n",
    "    res=n1/n2\n",
    "    print(\"Result is \", res)\n",
    "except ZeroDivisionError as e:\n",
    "    logging.exception(e)"
   ]
  },
  {
   "cell_type": "code",
   "execution_count": null,
   "metadata": {},
   "outputs": [],
   "source": []
  }
 ],
 "metadata": {
  "kernelspec": {
   "display_name": "Python 3",
   "language": "python",
   "name": "python3"
  },
  "language_info": {
   "codemirror_mode": {
    "name": "ipython",
    "version": 3
   },
   "file_extension": ".py",
   "mimetype": "text/x-python",
   "name": "python",
   "nbconvert_exporter": "python",
   "pygments_lexer": "ipython3",
   "version": "3.8.5"
  }
 },
 "nbformat": 4,
 "nbformat_minor": 4
}
