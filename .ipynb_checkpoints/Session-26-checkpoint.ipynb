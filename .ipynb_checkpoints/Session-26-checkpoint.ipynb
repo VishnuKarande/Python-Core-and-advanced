{
 "cells": [
  {
   "cell_type": "code",
   "execution_count": 46,
   "metadata": {},
   "outputs": [
    {
     "name": "stdout",
     "output_type": "stream",
     "text": [
      "Student Name is Vishnu Balaso Karande\n",
      "Roll Number is 101\n",
      "Date Of Birth = 10/29/1998\n"
     ]
    }
   ],
   "source": [
    "class Student:\n",
    "    def __init__(self):\n",
    "        self.name='Vishnu Balaso Karande'\n",
    "        self.Rollno= 101\n",
    "        \n",
    "    def display(self):\n",
    "        print(\"Student Name is %s\" %self.name)\n",
    "        print(\"Roll Number is %d\" %self.Rollno)\n",
    "        \n",
    "    class DoB:\n",
    "        def __init__(self):\n",
    "            self.mm=10\n",
    "            self.dd=29\n",
    "            self.yy=1998\n",
    "        def display(self):\n",
    "            print(\"Date Of Birth = %d/%d/%d\" % (self.mm,self.dd,self.yy))\n",
    "s=Student()\n",
    "s.display()\n",
    "\n",
    "D=s.DoB()\n",
    "D.display()\n",
    "    \n",
    "\n",
    "        "
   ]
  },
  {
   "cell_type": "code",
   "execution_count": 36,
   "metadata": {},
   "outputs": [
    {
     "name": "stdout",
     "output_type": "stream",
     "text": [
      "Date Of Birth = 10/29/1998\n"
     ]
    }
   ],
   "source": [
    "class DoB:\n",
    "    def __init__(self):\n",
    "            self.mm=10\n",
    "            self.dd=29\n",
    "            self.yy=1998\n",
    "    def display(self):\n",
    "        print(\"Date Of Birth = %d/%d/%d\" % (self.mm,self.dd,self.yy))\n",
    "        \n",
    "D=DoB()\n",
    "D.display()"
   ]
  },
  {
   "cell_type": "markdown",
   "metadata": {},
   "source": [
    "# Abstraction"
   ]
  },
  {
   "cell_type": "code",
   "execution_count": null,
   "metadata": {},
   "outputs": [],
   "source": []
  }
 ],
 "metadata": {
  "kernelspec": {
   "display_name": "Python 3",
   "language": "python",
   "name": "python3"
  },
  "language_info": {
   "codemirror_mode": {
    "name": "ipython",
    "version": 3
   },
   "file_extension": ".py",
   "mimetype": "text/x-python",
   "name": "python",
   "nbconvert_exporter": "python",
   "pygments_lexer": "ipython3",
   "version": "3.8.5"
  }
 },
 "nbformat": 4,
 "nbformat_minor": 4
}
