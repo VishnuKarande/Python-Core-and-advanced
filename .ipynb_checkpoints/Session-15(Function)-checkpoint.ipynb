{
 "cells": [
  {
   "cell_type": "code",
   "execution_count": 7,
   "metadata": {},
   "outputs": [
    {
     "name": "stdout",
     "output_type": "stream",
     "text": [
      "Sq. root is  4.0\n",
      "Sq. root is  3.4641016151377544\n"
     ]
    }
   ],
   "source": [
    "def sroot(x):\n",
    "    res=x**0.5\n",
    "    print(\"Sq. root is \", res)\n",
    "sroot(16)\n",
    "sroot(12)"
   ]
  },
  {
   "cell_type": "code",
   "execution_count": 8,
   "metadata": {},
   "outputs": [
    {
     "name": "stdout",
     "output_type": "stream",
     "text": [
      "Sq. root is  1.0\n",
      "Sq. root is  1.4142135623730951\n",
      "Sq. root is  1.7320508075688772\n",
      "Sq. root is  2.0\n",
      "Sq. root is  2.23606797749979\n",
      "Sq. root is  2.449489742783178\n",
      "Sq. root is  2.6457513110645907\n",
      "Sq. root is  2.8284271247461903\n",
      "Sq. root is  3.0\n",
      "Sq. root is  3.1622776601683795\n"
     ]
    }
   ],
   "source": [
    "for i in range(1,11):\n",
    "    sroot(i)"
   ]
  },
  {
   "cell_type": "code",
   "execution_count": 16,
   "metadata": {},
   "outputs": [
    {
     "name": "stdout",
     "output_type": "stream",
     "text": [
      "Sq. root is 1.00 is 1.00 \n",
      "Sq. root is 2.00 is 1.41 \n",
      "Sq. root is 3.00 is 1.73 \n",
      "Sq. root is 4.00 is 2.00 \n",
      "Sq. root is 5.00 is 2.24 \n",
      "Sq. root is 6.00 is 2.45 \n",
      "Sq. root is 7.00 is 2.65 \n",
      "Sq. root is 8.00 is 2.83 \n",
      "Sq. root is 9.00 is 3.00 \n",
      "Sq. root is 10.00 is 3.16 \n"
     ]
    }
   ],
   "source": [
    "def sroot(x):\n",
    "    res=x**0.5\n",
    "    print(\"Sq. root is %.2f is %.2f \"%(x,res))\n",
    "for i in range(1,11):\n",
    "    sroot(i)\n"
   ]
  },
  {
   "cell_type": "code",
   "execution_count": 17,
   "metadata": {},
   "outputs": [
    {
     "name": "stdout",
     "output_type": "stream",
     "text": [
      "Sq. root is 25.00 is 5.00 \n"
     ]
    }
   ],
   "source": [
    "def sroot(x):\n",
    "    res=x**0.5\n",
    "    print(\"Sq. root is %.2f is %.2f \"%(x,res))\n",
    "sroot(25)"
   ]
  },
  {
   "cell_type": "code",
   "execution_count": 18,
   "metadata": {},
   "outputs": [
    {
     "data": {
      "text/plain": [
       "5.0"
      ]
     },
     "execution_count": 18,
     "metadata": {},
     "output_type": "execute_result"
    }
   ],
   "source": [
    "def sroot(x):\n",
    "    res=x**0.5\n",
    "    return res\n",
    "    #print(\"Sq. root is %.2f is %.2f \"%(x,res))\n",
    "sroot(25)"
   ]
  },
  {
   "cell_type": "code",
   "execution_count": 21,
   "metadata": {},
   "outputs": [
    {
     "name": "stdout",
     "output_type": "stream",
     "text": [
      "Square root value= 5.0\n"
     ]
    }
   ],
   "source": [
    "def sroot(x):\n",
    "    res=x**0.5\n",
    "    return res\n",
    "    #print(\"Sq. root is %.2f is %.2f \"%(x,res))\n",
    "r=sroot(25)\n",
    "print(\"Square root value=\", r)"
   ]
  },
  {
   "cell_type": "code",
   "execution_count": 7,
   "metadata": {},
   "outputs": [
    {
     "name": "stdout",
     "output_type": "stream",
     "text": [
      "Addition is = 30.4\n",
      "subtraction= -10.399999999999999\n"
     ]
    }
   ],
   "source": [
    "def add_sub(x,y):\n",
    "    res1=x+y\n",
    "    res2=x-y\n",
    "    return res1,res2\n",
    "r1,r2=add_sub(10,20.4)\n",
    "print('Addition is =',r1)\n",
    "print('subtraction=', r2)"
   ]
  },
  {
   "cell_type": "code",
   "execution_count": 16,
   "metadata": {},
   "outputs": [
    {
     "name": "stdout",
     "output_type": "stream",
     "text": [
      "Enter A =12\n",
      "Enter B =9\n",
      "Addtion is  21\n",
      "Subtraction -3\n"
     ]
    }
   ],
   "source": [
    "def add_sub(x,y):\n",
    "    a=x+y\n",
    "    b=x-y\n",
    "    return a, b\n",
    "n=int(input('Enter A ='))\n",
    "m=int(input('Enter B ='))\n",
    "\n",
    "r1 , r2 = add_sub(m,n)\n",
    "\n",
    "print('Addtion is ', r1)\n",
    "print('Subtraction', r2)"
   ]
  },
  {
   "cell_type": "code",
   "execution_count": null,
   "metadata": {},
   "outputs": [],
   "source": [
    "#Local- inside a function.scope is limited \n",
    "#actual\n"
   ]
  },
  {
   "cell_type": "code",
   "execution_count": 22,
   "metadata": {},
   "outputs": [
    {
     "name": "stdout",
     "output_type": "stream",
     "text": [
      "Local Variable =  20\n",
      "Global variable is= 12\n"
     ]
    }
   ],
   "source": [
    "x=12  #Gobal\n",
    "def local():  #Local\n",
    "    x=20\n",
    "    print(\"Local Variable = \",x)\n",
    "local()\n",
    "print('Global variable is=',x)"
   ]
  },
  {
   "cell_type": "code",
   "execution_count": 24,
   "metadata": {},
   "outputs": [
    {
     "name": "stdout",
     "output_type": "stream",
     "text": [
      "Local Variable =  20\n",
      "12\n"
     ]
    }
   ],
   "source": [
    "x=12  #Gobal\n",
    "def local():  #Local\n",
    "    x=20\n",
    "    print(\"Local Variable = \",x)\n",
    "    y= globals()['x']\n",
    "    print(y)\n",
    "local()"
   ]
  },
  {
   "cell_type": "code",
   "execution_count": null,
   "metadata": {},
   "outputs": [],
   "source": []
  }
 ],
 "metadata": {
  "kernelspec": {
   "display_name": "Python 3",
   "language": "python",
   "name": "python3"
  },
  "language_info": {
   "codemirror_mode": {
    "name": "ipython",
    "version": 3
   },
   "file_extension": ".py",
   "mimetype": "text/x-python",
   "name": "python",
   "nbconvert_exporter": "python",
   "pygments_lexer": "ipython3",
   "version": "3.8.5"
  }
 },
 "nbformat": 4,
 "nbformat_minor": 4
}
