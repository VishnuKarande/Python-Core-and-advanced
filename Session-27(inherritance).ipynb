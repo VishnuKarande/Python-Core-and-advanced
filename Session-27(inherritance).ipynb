{
 "cells": [
  {
   "cell_type": "code",
   "execution_count": 3,
   "metadata": {},
   "outputs": [],
   "source": [
    "class Square:\n",
    "    def __init__(self,x):\n",
    "        self.x = x\n",
    "    def area(self):\n",
    "        print(\"Area Of Square\" , self.x * self.x)\n"
   ]
  },
  {
   "cell_type": "code",
   "execution_count": 4,
   "metadata": {},
   "outputs": [
    {
     "name": "stdout",
     "output_type": "stream",
     "text": [
      "Area Of Square 144\n",
      "Area Of retangle 151.2\n"
     ]
    }
   ],
   "source": [
    "    class Rect(Square):\n",
    "        def __init__(self,x,y):\n",
    "            super().__init__(x)\n",
    "            self.y=y\n",
    "        def area(self):\n",
    "            print(\"Area of Rectangle\", self.x*self.y)\n",
    "        \n",
    "        def area(self): #2 Ways\n",
    "            super().area()\n",
    "            print(\"Area Of retangle\",self.x * self.y)\n",
    "        \n",
    "R=Rect(12,12.6)\n",
    "R.area()"
   ]
  },
  {
   "cell_type": "code",
   "execution_count": 43,
   "metadata": {},
   "outputs": [],
   "source": [
    "def area(self):\n",
    "    super().area()\n",
    "    print(\"Area Of retangle\",self.x * self.y)"
   ]
  },
  {
   "cell_type": "code",
   "execution_count": 38,
   "metadata": {},
   "outputs": [
    {
     "name": "stdout",
     "output_type": "stream",
     "text": [
      "Area Of Square 4\n"
     ]
    }
   ],
   "source": [
    "class Square:\n",
    "    def __init__(self,x):\n",
    "        self.x = x\n",
    "    def area(self):\n",
    "        print(\"Area Of Square\" , self.x * self.x)\n",
    "    \n",
    "C=Square(2)\n",
    "C.area()"
   ]
  },
  {
   "cell_type": "code",
   "execution_count": null,
   "metadata": {},
   "outputs": [],
   "source": []
  }
 ],
 "metadata": {
  "kernelspec": {
   "display_name": "Python 3",
   "language": "python",
   "name": "python3"
  },
  "language_info": {
   "codemirror_mode": {
    "name": "ipython",
    "version": 3
   },
   "file_extension": ".py",
   "mimetype": "text/x-python",
   "name": "python",
   "nbconvert_exporter": "python",
   "pygments_lexer": "ipython3",
   "version": "3.8.5"
  }
 },
 "nbformat": 4,
 "nbformat_minor": 4
}
