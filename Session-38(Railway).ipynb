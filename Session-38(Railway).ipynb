{
 "cells": [
  {
   "cell_type": "code",
   "execution_count": 17,
   "metadata": {},
   "outputs": [
    {
     "name": "stdout",
     "output_type": "stream",
     "text": [
      "NO. of avilable breths= 1\n",
      "1 braths are alloted to Frist preson\n",
      "NO. of avilable breths= 1\n",
      "1 braths are alloted to secound person\n"
     ]
    },
    {
     "name": "stderr",
     "output_type": "stream",
     "text": [
      "Exception in thread Exception in thread secound person:\n",
      "Traceback (most recent call last):\n",
      "  File \"C:\\ProgramData\\Anaconda3\\lib\\threading.py\", line 932, in _bootstrap_inner\n",
      "Frist preson:\n",
      "Traceback (most recent call last):\n",
      "  File \"C:\\ProgramData\\Anaconda3\\lib\\threading.py\", line 932, in _bootstrap_inner\n",
      "        self.run()\n",
      "  File \"C:\\ProgramData\\Anaconda3\\lib\\threading.py\", line 870, in run\n",
      "self.run()\n",
      "  File \"C:\\ProgramData\\Anaconda3\\lib\\threading.py\", line 870, in run\n",
      "        self._target(*self._args, **self._kwargs)self._target(*self._args, **self._kwargs)\n",
      "  File \"<ipython-input-17-b30ab4fdb54c>\", line 22, in reserve\n",
      "\n",
      "  File \"<ipython-input-17-b30ab4fdb54c>\", line 22, in reserve\n",
      "AttributeErrorAttributeError: 'Raiway' object has no attribute 'i'\n",
      ": 'Raiway' object has no attribute 'i'\n"
     ]
    }
   ],
   "source": [
    "from threading import *\n",
    "from time import *\n",
    "\n",
    "class Raiway:\n",
    "    def __init__(self, avilable):\n",
    "        self.avilable=avilable\n",
    "        #self.l=Lock()\n",
    "        self.l=Semaphore(2) #Two Thread are Excueted\n",
    "        \n",
    "    def reserve(self,wanted):\n",
    "        self.l.acquire()\n",
    "        print(\"NO. of avilable breths=\", self.avilable)\n",
    "        \n",
    "        if self.avilable>=wanted:\n",
    "            name=current_thread().getName()\n",
    "            print(\"%d braths are alloted to %s\" %(wanted, name))\n",
    "            sleep(1.5)\n",
    "            self.avilable-=wanted\n",
    "        else:\n",
    "            print(\"Sorry!😉😉no berths to allot...\")\n",
    "        \n",
    "        self.i.release()\n",
    "\n",
    "obj=Raiway(1)\n",
    "t1=Thread(target=obj.reserve,args=(1,)) #Craete Thread 1\n",
    "t2=Thread(target=obj.reserve,args=(1,)) #Craete Thread 2\n",
    "\n",
    "t1.setName(\"Frist preson\")\n",
    "t2.setName(\"secound person\")\n",
    "\n",
    "t1.start()\n",
    "t2.start()\n"
   ]
  },
  {
   "cell_type": "markdown",
   "metadata": {},
   "source": [
    "#Thread syncronization / thread Safe :-\n",
    "when thread enter in a obj, locking The obj,such that it does not allow any other thread\n",
    "\n",
    "Mutex = mutually Exclusive lock\n",
    "\n",
    "one tread the enter other tread is not is allowed\n",
    "\n",
    "1.using lock -->(Only one thread is Excu)\n",
    "  -acquire()\n",
    "  -release()\n",
    "  \n",
    "2.using Semaphore (3)-->(3 is ||ly 3 threads are Excuceted)\n",
    "  -acquire()\n",
    "  -release()"
   ]
  },
  {
   "cell_type": "raw",
   "metadata": {},
   "source": [
    "Interview Que--> Which is Better Thread (Lock / Semaphore)  \n",
    "\n",
    "Ans-->lock is better than samaphora\n",
    "\n"
   ]
  },
  {
   "cell_type": "code",
   "execution_count": null,
   "metadata": {},
   "outputs": [],
   "source": []
  }
 ],
 "metadata": {
  "kernelspec": {
   "display_name": "Python 3",
   "language": "python",
   "name": "python3"
  },
  "language_info": {
   "codemirror_mode": {
    "name": "ipython",
    "version": 3
   },
   "file_extension": ".py",
   "mimetype": "text/x-python",
   "name": "python",
   "nbconvert_exporter": "python",
   "pygments_lexer": "ipython3",
   "version": "3.8.5"
  }
 },
 "nbformat": 4,
 "nbformat_minor": 4
}
